{
 "cells": [
  {
   "cell_type": "markdown",
   "id": "098e4420-1a64-4a18-acce-104acdf2f665",
   "metadata": {},
   "source": [
    "string based assignments"
   ]
  },
  {
   "cell_type": "code",
   "execution_count": 8,
   "id": "d64be87d-ddef-46ef-bb35-a53039c89404",
   "metadata": {},
   "outputs": [
    {
     "name": "stdin",
     "output_type": "stream",
     "text": [
      "Enter the string: bhushan\n"
     ]
    },
    {
     "name": "stdout",
     "output_type": "stream",
     "text": [
      "Reverse of a string is: nahsuhb\n"
     ]
    }
   ],
   "source": [
    "# 1.Program to reverse a string\n",
    "s=input(\"Enter the string:\")\n",
    "print(\"Reverse of a string is:\",s[::-1])"
   ]
  },
  {
   "cell_type": "code",
   "execution_count": 18,
   "id": "81f899a0-0aeb-4d8c-a519-ab2b5d8173e1",
   "metadata": {},
   "outputs": [
    {
     "name": "stdin",
     "output_type": "stream",
     "text": [
      "Enter the string: nitin\n"
     ]
    },
    {
     "name": "stdout",
     "output_type": "stream",
     "text": [
      "string is palindrome\n"
     ]
    }
   ],
   "source": [
    "#2. program to check palindrome or not\n",
    "s1=input(\"Enter the string:\")\n",
    "s2=s1[::-1] # store original string\n",
    "if s1==s2:\n",
    "    print(\"string is palindrome\")\n",
    "else:\n",
    "      print(\"string is not palindrome\")"
   ]
  },
  {
   "cell_type": "code",
   "execution_count": 20,
   "id": "6d4d157b-0835-4d82-8058-3daaa8dc756f",
   "metadata": {},
   "outputs": [
    {
     "name": "stdin",
     "output_type": "stream",
     "text": [
      "Enter the string: ishan bhalerao\n"
     ]
    },
    {
     "name": "stdout",
     "output_type": "stream",
     "text": [
      "uppercase string is: ISHAN BHALERAO\n"
     ]
    }
   ],
   "source": [
    "#3.convert a string to uppercase\n",
    "s=input(\"Enter the string:\")\n",
    "print(\"uppercase string is:\",s.upper())"
   ]
  },
  {
   "cell_type": "code",
   "execution_count": 21,
   "id": "6facff75-d93c-41ce-a739-42e5b05a5c58",
   "metadata": {},
   "outputs": [
    {
     "name": "stdin",
     "output_type": "stream",
     "text": [
      "Enter the string: ISHAN BHALERAO\n"
     ]
    },
    {
     "name": "stdout",
     "output_type": "stream",
     "text": [
      "lowercase string is: ishan bhalerao\n"
     ]
    }
   ],
   "source": [
    "#4.convert a string to lowercase\n",
    "s=input(\"Enter the string:\")\n",
    "print(\"lowercase string is:\",s.lower())"
   ]
  },
  {
   "cell_type": "code",
   "execution_count": 36,
   "id": "9f1afcc6-9c62-467b-a208-20d650b6596e",
   "metadata": {},
   "outputs": [
    {
     "name": "stdin",
     "output_type": "stream",
     "text": [
      "Enter string: ISHAN BHALERAO\n"
     ]
    },
    {
     "name": "stdout",
     "output_type": "stream",
     "text": [
      "Number of vowels are:\n",
      "6\n"
     ]
    }
   ],
   "source": [
    "#5 count the no of vowels in a string.\n",
    "string=input(\"Enter string:\")\n",
    "vowels=0\n",
    "for i in string:\n",
    "      if(i=='a' or i=='e' or i=='i' or i=='o' or i=='u' or i=='A' or i=='E' or i=='I' or i=='O' or i=='U'):\n",
    "            vowels=vowels+1\n",
    "print(\"Number of vowels are:\")\n",
    "print(vowels)"
   ]
  },
  {
   "cell_type": "code",
   "execution_count": 41,
   "id": "44020ebf-fb2d-4649-8c86-e521bb8f7737",
   "metadata": {},
   "outputs": [
    {
     "name": "stdin",
     "output_type": "stream",
     "text": [
      "Enter string: ishan\n"
     ]
    },
    {
     "name": "stdout",
     "output_type": "stream",
     "text": [
      "Number of consonants are:\n",
      "3\n"
     ]
    }
   ],
   "source": [
    "#6 count the no of CONSONANTS in a string.\n",
    "string=input(\"Enter string:\")\n",
    "vowels=0\n",
    "consonants=0\n",
    "for i in string:\n",
    "    if(i=='a' or i=='e' or i=='i' or i=='o' or i=='u' or i=='A' or i=='E' or i=='I' or i=='O' or i=='U'):\n",
    "        vowels=vowels+1\n",
    "    else:\n",
    "        consonants=consonants+1\n",
    "    \n",
    "print(\"Number of consonants are:\")\n",
    "print(consonants)"
   ]
  },
  {
   "cell_type": "code",
   "execution_count": 44,
   "id": "cd1770e5-f3dc-4b46-857c-fcf991e27a28",
   "metadata": {},
   "outputs": [
    {
     "name": "stdin",
     "output_type": "stream",
     "text": [
      "Enter string: this is my first python script\n"
     ]
    },
    {
     "name": "stdout",
     "output_type": "stream",
     "text": [
      "After removing white spaces a string is: thisismyfirstpythonscript\n"
     ]
    }
   ],
   "source": [
    "#7. Remove all the white spaces in a string\n",
    "string=input(\"Enter string:\")\n",
    "print(\"After removing white spaces a string is:\",string.replace(\" \",\"\"))"
   ]
  },
  {
   "cell_type": "code",
   "execution_count": 49,
   "id": "ab419526-2971-4110-916b-aa8833c379a5",
   "metadata": {},
   "outputs": [
    {
     "name": "stdin",
     "output_type": "stream",
     "text": [
      "Enter string: ishan\n"
     ]
    },
    {
     "name": "stdout",
     "output_type": "stream",
     "text": [
      "Length of a string is: 5\n"
     ]
    }
   ],
   "source": [
    "#8. Find the length of a function without using len()\n",
    "c=0\n",
    "string=input(\"Enter string:\")\n",
    "for i in string:\n",
    "    c=c+1\n",
    "print(\"Length of a string is:\",c)"
   ]
  },
  {
   "cell_type": "code",
   "execution_count": 24,
   "id": "fe965e4a-aef5-4b64-a6d8-5f9a25d68271",
   "metadata": {},
   "outputs": [
    {
     "name": "stdout",
     "output_type": "stream",
     "text": [
      "word is not present\n"
     ]
    }
   ],
   "source": [
    "#9. checkif a string contains a specific word\n",
    "sentence=\"Welcome to pwskills\"\n",
    "word=\"To\"\n",
    "if word in sentence:\n",
    "    print(\"word is present\")\n",
    "else:\n",
    "     print(\"word is not present\")"
   ]
  },
  {
   "cell_type": "code",
   "execution_count": 28,
   "id": "ea87c55f-69ef-4fb0-a8ac-e6e4468c9a07",
   "metadata": {},
   "outputs": [
    {
     "name": "stdout",
     "output_type": "stream",
     "text": [
      "Welcome To pwskills\n"
     ]
    }
   ],
   "source": [
    "#10. Replace a word with another word\n",
    "\n",
    "sentence=\"Welcome to pwskills\"\n",
    "word=\"to\"\n",
    "if word in sentence:\n",
    "    new_sentence=sentence.replace(\"to\",\"To\")\n",
    "else:\n",
    "     print(\"word is not present\")\n",
    "print(new_sentence)"
   ]
  },
  {
   "cell_type": "code",
   "execution_count": 33,
   "id": "a2df4346-2fe7-4f2d-a3c6-10c0098d0289",
   "metadata": {},
   "outputs": [
    {
     "name": "stdout",
     "output_type": "stream",
     "text": [
      "No of occourances of a word is: 2\n"
     ]
    }
   ],
   "source": [
    "#11. Find the number of occourances a word\n",
    "sentence=\"Welcome to pwskills and join to our data science course\"\n",
    "occourance=sentence.count(\"to\")\n",
    "print(\"No of occourances of a word is:\",occourance)"
   ]
  },
  {
   "cell_type": "code",
   "execution_count": 34,
   "id": "94b33b1f-1abe-4fdd-836e-17689d06175d",
   "metadata": {},
   "outputs": [
    {
     "name": "stdout",
     "output_type": "stream",
     "text": [
      "First Index of a word is: 8\n"
     ]
    }
   ],
   "source": [
    "#12. Find the first occourance of a word in a string\n",
    "sentence=\"Welcome to pwskills and join to our data science course\"\n",
    "firstIndex=sentence.index(\"to\")\n",
    "print(\"First Index of a word is:\",firstIndex)"
   ]
  },
  {
   "cell_type": "code",
   "execution_count": 35,
   "id": "5dec691e-b479-4b82-b52b-b6830b379c63",
   "metadata": {},
   "outputs": [
    {
     "name": "stdout",
     "output_type": "stream",
     "text": [
      "Last Index of a word is: 29\n"
     ]
    }
   ],
   "source": [
    "#13. Find the Last occourance of a word in a string\n",
    "sentence=\"Welcome to pwskills and join to our data science course\"\n",
    "lastIndex=sentence.rindex(\"to\")\n",
    "print(\"Last Index of a word is:\",lastIndex)"
   ]
  },
  {
   "cell_type": "code",
   "execution_count": 37,
   "id": "f28dc68f-b2d9-4cc0-86e8-f699511160b6",
   "metadata": {},
   "outputs": [
    {
     "name": "stdout",
     "output_type": "stream",
     "text": [
      "After spliting words are: ['Welcome', 'to', 'pwskills', 'and', 'join', 'to', 'our', 'data', 'science', 'course']\n"
     ]
    }
   ],
   "source": [
    "#14. split a string into a list of word\n",
    "sentence=\"Welcome to pwskills and join to our data science course\"\n",
    "splitWords=sentence.split(\" \")\n",
    "print(\"After spliting words are:\",splitWords)"
   ]
  },
  {
   "cell_type": "code",
   "execution_count": 38,
   "id": "7ef9a41b-9222-4559-a903-712b928405de",
   "metadata": {},
   "outputs": [
    {
     "name": "stdout",
     "output_type": "stream",
     "text": [
      "Hello world ! This is Python\n"
     ]
    }
   ],
   "source": [
    "#15.Join a list of words into a string \n",
    "\n",
    "list_1 = ['Hello', 'world', '!', 'This', 'is', 'Python'] \n",
    "separator = ' ' \n",
    "result = separator.join(list_1) \n",
    "print(result)"
   ]
  },
  {
   "cell_type": "code",
   "execution_count": 3,
   "id": "0ffcfaa1-fd42-45e8-9098-c1200ebe7054",
   "metadata": {},
   "outputs": [
    {
     "name": "stdout",
     "output_type": "stream",
     "text": [
      "string is: This_is_my_python_program\n"
     ]
    }
   ],
   "source": [
    "#16. Python program to Convert a string where words are separated by spaces to one where words\n",
    "#are separated by underscores.\n",
    "string=\"This is my python program\"\n",
    "print(\"string is:\",string.replace(\" \",\"_\"))\n",
    "\n"
   ]
  },
  {
   "cell_type": "code",
   "execution_count": 5,
   "id": "dc03802a-a19b-4836-ba45-19b759679099",
   "metadata": {},
   "outputs": [
    {
     "name": "stdout",
     "output_type": "stream",
     "text": [
      "True\n",
      "False\n"
     ]
    }
   ],
   "source": [
    "#17. Python program to Check if a string starts with a specific word or phrase.\n",
    "string=\"This is my python program\"\n",
    "print(string.startswith(\"This\"))\n",
    "print(string.startswith(\"this\"))"
   ]
  },
  {
   "cell_type": "code",
   "execution_count": 8,
   "id": "3fced4d7-dbb3-42b9-aa9c-64287df0b5f0",
   "metadata": {},
   "outputs": [
    {
     "name": "stdout",
     "output_type": "stream",
     "text": [
      "False\n",
      "True\n"
     ]
    }
   ],
   "source": [
    "#18.Python Program to Check if a string ends with a specific word or phrase.\n",
    "string=\"This is my python program\"\n",
    "print(string.endswith(\"Program\"))\n",
    "print(string.endswith(\"program\"))"
   ]
  },
  {
   "cell_type": "code",
   "execution_count": 9,
   "id": "ee18abf0-7d5e-4413-a523-95eefa3b7c00",
   "metadata": {},
   "outputs": [
    {
     "name": "stdout",
     "output_type": "stream",
     "text": [
      "This Is My Python Program\n"
     ]
    }
   ],
   "source": [
    "#19.Python program to Convert a string to title case\n",
    "string=\"This is my python program\"\n",
    "print(string.title())\n"
   ]
  },
  {
   "cell_type": "code",
   "execution_count": 15,
   "id": "a1ada116-5a25-4d1e-8333-9ea024f889c3",
   "metadata": {},
   "outputs": [
    {
     "name": "stdin",
     "output_type": "stream",
     "text": [
      "Enter sentence:  my name is ishan bhalerao\n"
     ]
    },
    {
     "name": "stdout",
     "output_type": "stream",
     "text": [
      "Longest word is:  bhalerao\n",
      "And its length is:  8\n"
     ]
    }
   ],
   "source": [
    "#20. Python program to Find the longest word in a string.\n",
    "sentence = input(\"Enter sentence: \")\n",
    "# Finding longest word\n",
    "longest = max(sentence.split(), key=len)\n",
    "\n",
    "# Displaying longest word\n",
    "print(\"Longest word is: \", longest)\n",
    "print(\"And its length is: \", len(longest))"
   ]
  },
  {
   "cell_type": "code",
   "execution_count": 16,
   "id": "021c82f9-32d1-4453-8ba1-67b4abfe92c1",
   "metadata": {},
   "outputs": [
    {
     "name": "stdin",
     "output_type": "stream",
     "text": [
      "Enter sentence:  my name is ishan bhalerao\n"
     ]
    },
    {
     "name": "stdout",
     "output_type": "stream",
     "text": [
      "Shortest word is:  my\n",
      "And its length is:  2\n"
     ]
    }
   ],
   "source": [
    "#21. Python program to Find the smallest word in a string.\n",
    "sentence = input(\"Enter sentence: \")\n",
    "# Finding Shortest word\n",
    "shortest = min(sentence.split(), key=len)\n",
    "\n",
    "# Displaying Shortest word\n",
    "print(\"Shortest word is: \", shortest)\n",
    "print(\"And its length is: \", len(shortest))"
   ]
  },
  {
   "cell_type": "code",
   "execution_count": 20,
   "id": "2af19521-8301-47c3-a380-46a4c5f5060c",
   "metadata": {},
   "outputs": [
    {
     "name": "stdin",
     "output_type": "stream",
     "text": [
      "Enter sentence:  ishan bhalerao\n"
     ]
    },
    {
     "data": {
      "text/plain": [
       "['bhalerao', 'ishan']"
      ]
     },
     "execution_count": 20,
     "metadata": {},
     "output_type": "execute_result"
    }
   ],
   "source": [
    "#22. Python program to Reverse the order of words in a string.\n",
    "sentence = input(\"Enter sentence: \")\n",
    "splited_words=sentence.split()\n",
    "rev_words=splited_words[::-1]\n",
    "rev_words"
   ]
  },
  {
   "cell_type": "code",
   "execution_count": 22,
   "id": "742340c9-8943-4836-8607-7b3cc9f879e3",
   "metadata": {},
   "outputs": [
    {
     "name": "stdin",
     "output_type": "stream",
     "text": [
      "Enter sentence:  ishan123\n"
     ]
    },
    {
     "name": "stdout",
     "output_type": "stream",
     "text": [
      "True\n"
     ]
    }
   ],
   "source": [
    "#23. Python program to Check if a string is alphanumeric.\n",
    "\n",
    "sentence = input(\"Enter sentence: \")\n",
    "print(sentence.isalnum())"
   ]
  },
  {
   "cell_type": "code",
   "execution_count": 27,
   "id": "8738f6b1-36b1-47ca-9b31-a7ec21819471",
   "metadata": {},
   "outputs": [
    {
     "name": "stdout",
     "output_type": "stream",
     "text": [
      "original string is: There are 2 apples for 4 persons\n",
      "Extracted numbers from the list :  24\n"
     ]
    }
   ],
   "source": [
    "#24. Python Program to Extract all digits from a string.\n",
    "\n",
    "test_string = \"There are 2 apples for 4 persons\"\n",
    "print(\"original string is:\",test_string)\n",
    "num = \" \"\n",
    "for c in test_string:\n",
    "    if c.isdigit():\n",
    "        num = num + c\n",
    "print(\"Extracted numbers from the list : \" + num) "
   ]
  },
  {
   "cell_type": "code",
   "execution_count": 31,
   "id": "3c97f671-62bc-45f8-9c4a-1952ee433453",
   "metadata": {},
   "outputs": [
    {
     "name": "stdout",
     "output_type": "stream",
     "text": [
      "original string is: There are 2 apples for 4 persons\n",
      "Extracted numbers from the list :  Thereareapplesforpersons \n"
     ]
    }
   ],
   "source": [
    "#25.Python program to Extract all alphabets from a string.\n",
    "\n",
    "test_string = \"There are 2 apples for 4 persons\"\n",
    "print(\"original string is:\",test_string)\n",
    "num = \" \"\n",
    "for c in test_string:\n",
    "    if c.isalpha():\n",
    "        num = num + c\n",
    "print(\"Extracted alphabets from the list : \" + num ) "
   ]
  },
  {
   "cell_type": "code",
   "execution_count": 34,
   "id": "72b22057-e0b5-4b5c-b309-1d65b69b4638",
   "metadata": {},
   "outputs": [
    {
     "name": "stdout",
     "output_type": "stream",
     "text": [
      "The number of uppercase characters is:\n",
      "27\n"
     ]
    }
   ],
   "source": [
    "#26. Python program to Count the number of uppercase letters in a string.\n",
    "string=\"THIS IS UPPERCASE LETTER STRING\"\n",
    "c=0\n",
    "for i in string:\n",
    "    if(i.isupper()):\n",
    "        c=c+1\n",
    "        \n",
    "print(\"The number of uppercase characters is:\")\n",
    "print(c)"
   ]
  },
  {
   "cell_type": "code",
   "execution_count": 6,
   "id": "c9478e27-d264-4afd-baca-82a0f4ad1a5f",
   "metadata": {},
   "outputs": [
    {
     "name": "stdout",
     "output_type": "stream",
     "text": [
      "The number of lowercase characters is:\n",
      "35\n"
     ]
    }
   ],
   "source": [
    "#27. Python program to Count the number of uppercase letters in a string.\n",
    "string=\"this is lowercase letter string in python\"\n",
    "c=0\n",
    "for i in string:\n",
    "    if(i.islower()):\n",
    "        c=c+1\n",
    "        \n",
    "print(\"The number of lowercase characters is:\")\n",
    "print(c)"
   ]
  },
  {
   "cell_type": "code",
   "execution_count": 8,
   "id": "f839670d-0a67-4136-9e92-428af92009e9",
   "metadata": {},
   "outputs": [
    {
     "name": "stdout",
     "output_type": "stream",
     "text": [
      "swap case string is: THIS IS LOWERCASE LETTER STRING IN PYTHON\n",
      "swap case string is: this is uppercase letter string\n"
     ]
    }
   ],
   "source": [
    "#28. Python program to Swap the case of each character in a string.\n",
    "string=\"this is example of swap case letter string in python\"\n",
    "\n",
    "string1=\"THIS IS SWAPCASE LETTER STRING IN PYTHON\"\n",
    "\n",
    "print(\"swap case string is:\",string.swapcase())\n",
    "print(\"swap case string is:\",string1.swapcase())"
   ]
  },
  {
   "cell_type": "code",
   "execution_count": 14,
   "id": "52b83071-b3b9-412c-80bf-115fe09c0a01",
   "metadata": {},
   "outputs": [
    {
     "name": "stdout",
     "output_type": "stream",
     "text": [
      "New string is: This is   strting\n"
     ]
    }
   ],
   "source": [
    "#29. python program to Remove a specific word from a string.\n",
    "string=\"This is test strting\"\n",
    "new_string=string.replace(\"test\",\" \")\n",
    "print(\"New string is:\",new_string)"
   ]
  },
  {
   "cell_type": "code",
   "execution_count": 19,
   "id": "9239b507-ce52-445d-b0ef-26a84b096b87",
   "metadata": {},
   "outputs": [
    {
     "name": "stdout",
     "output_type": "stream",
     "text": [
      "valid email address\n"
     ]
    }
   ],
   "source": [
    "#30. Python program to Check if a string is a valid email address.\n",
    "import re\n",
    "email = \"example@domain.com\"  \n",
    "if re.match(r\"[^@]+@[^@]+\\.[^@]+\", email):\n",
    "    print(\"valid email address\") \n",
    "else:\n",
    "    print(\"email not valid\")"
   ]
  },
  {
   "cell_type": "code",
   "execution_count": 21,
   "id": "d19285a0-fe9d-4705-86f7-4a54bd043b9e",
   "metadata": {},
   "outputs": [
    {
     "name": "stdin",
     "output_type": "stream",
     "text": [
      "enter the email\n",
      " ishan.bhalerao18@gmail.com\n"
     ]
    },
    {
     "name": "stdout",
     "output_type": "stream",
     "text": [
      "The original string is : ishan.bhalerao18@gmail.com\n",
      "The extracted username with lenght is : ishan.bhalerao1816\n"
     ]
    }
   ],
   "source": [
    "#31. Python Program to Extract the username from an email address string.\n",
    "\n",
    "email=input(\"enter the email\\n\")\n",
    "# original string is printed\n",
    "print(\"The original string is : \" + str(email))\n",
    "# slicing domain name using slicing\n",
    "res = email[:email.index('@') ]\n",
    "# finding the length of the sliced string\n",
    "length_of_the_string=len(res)\n",
    "final_string=res+str(length_of_the_string)\n",
    "# printing result\n",
    "print(\"The extracted username with lenght is : \" + str(final_string))"
   ]
  },
  {
   "cell_type": "code",
   "execution_count": 23,
   "id": "33dc2622-3679-4d07-adb6-df9fbae8adf3",
   "metadata": {},
   "outputs": [
    {
     "name": "stdout",
     "output_type": "stream",
     "text": [
      "The original string is : ishan.bhalerao18@gmail.com\n",
      "The extracted domain name : gmail.com\n"
     ]
    }
   ],
   "source": [
    "#32. Python program to Extract domain name from Email address\n",
    "\n",
    "# initializing strings\n",
    "test_str = 'ishan.bhalerao18@gmail.com'\n",
    "\n",
    "# printing original string\n",
    "print(\"The original string is : \" + str(test_str))\n",
    "\n",
    "# slicing domain name using slicing \n",
    "res = test_str[test_str.index('@') + 1 : ]\n",
    "\n",
    "# printing result \n",
    "print(\"The extracted domain name : \" + str(res)) \n"
   ]
  },
  {
   "cell_type": "code",
   "execution_count": 25,
   "id": "1548feeb-d705-4967-8e5d-b83e1931f460",
   "metadata": {},
   "outputs": [
    {
     "name": "stdout",
     "output_type": "stream",
     "text": [
      "'this is test atring'\n"
     ]
    }
   ],
   "source": [
    "# 33. Python program to Replace multiple spaces in a string with a single space.\n",
    "\n",
    "my_str = '   this    is      test             atring'\n",
    "# ✅ replace multiple whitespace characters with single space\n",
    "result = \" \".join(my_str.split())\n",
    "print(repr(result))  \n"
   ]
  },
  {
   "cell_type": "code",
   "execution_count": 34,
   "id": "5476c7c4-0517-4fc9-b4d4-61062b068890",
   "metadata": {},
   "outputs": [
    {
     "name": "stdin",
     "output_type": "stream",
     "text": [
      "Enter URL: https://www.google.com\n"
     ]
    },
    {
     "name": "stdout",
     "output_type": "stream",
     "text": [
      "True\n"
     ]
    }
   ],
   "source": [
    "#34. Python program to Check if a string is a valid URL.\n",
    "url=input(\"Enter URL:\")\n",
    "pattern = r'^(http|https):\\/\\/([\\w.-]+)(\\.[\\w.-]+)+([\\/\\w\\.-]*)*\\/?$'\n",
    "print(bool(re.match(pattern, url)))\n"
   ]
  },
  {
   "cell_type": "code",
   "execution_count": 37,
   "id": "d9d51b90-86dd-4834-b58a-6361272379cf",
   "metadata": {},
   "outputs": [
    {
     "name": "stdin",
     "output_type": "stream",
     "text": [
      "Enter URL: https://www.google.com\n"
     ]
    },
    {
     "name": "stdout",
     "output_type": "stream",
     "text": [
      "protocol is: https\n"
     ]
    }
   ],
   "source": [
    "#35. Python program to Extract the protocol (http or https) from a URL string.\n",
    "url=input(\"Enter URL:\")\n",
    "pattern = r\"^(?P<protocol>https?)://(?P<hostname>[^/]+)\"\n",
    "match = re.search(pattern, url)\n",
    "if match:\n",
    "    protocol = match.group(\"protocol\")\n",
    "    \n",
    "print(\"protocol is:\",protocol)"
   ]
  },
  {
   "cell_type": "code",
   "execution_count": 40,
   "id": "8c7da6e0-1dd8-48d8-b350-6078d26c1f53",
   "metadata": {},
   "outputs": [
    {
     "name": "stdout",
     "output_type": "stream",
     "text": [
      "p: 1, w: 1, s: 2, k: 1, i: 1, l: 2, l: 2, s: 2, "
     ]
    }
   ],
   "source": [
    "#36. python program to Find the frequency of each character in a string.\n",
    "\n",
    "string = \"pwskills\"\n",
    "\n",
    "for i in string:\n",
    "    frequency = string.count(i)\n",
    "    print(str(i) + \": \" + str(frequency), end=\", \")"
   ]
  },
  {
   "cell_type": "code",
   "execution_count": 41,
   "id": "c948a3e0-5ad9-4cee-9da6-ffc16404663a",
   "metadata": {},
   "outputs": [
    {
     "name": "stdout",
     "output_type": "stream",
     "text": [
      "Hello he said and went\n"
     ]
    }
   ],
   "source": [
    "#37. python program to Remove all punctuation from a string.\n",
    "\n",
    "# define punctuation\n",
    "punctuations = '''!()-[]{};:'\"\\,<>./?@#$%^&*_~'''\n",
    "\n",
    "my_str = \"Hello!!!, he said ---and went.\"\n",
    "\n",
    "# To take input from the user\n",
    "# my_str = input(\"Enter a string: \")\n",
    "\n",
    "# remove punctuation from the string\n",
    "no_punct = \"\"\n",
    "for char in my_str:\n",
    "   if char not in punctuations:\n",
    "       no_punct = no_punct + char\n",
    "\n",
    "# display the unpunctuated string\n",
    "print(no_punct)"
   ]
  },
  {
   "cell_type": "code",
   "execution_count": 43,
   "id": "3738f26e-689a-4337-90a5-79aee53d6e89",
   "metadata": {},
   "outputs": [
    {
     "name": "stdin",
     "output_type": "stream",
     "text": [
      "Enter string: asd34\n"
     ]
    },
    {
     "name": "stdout",
     "output_type": "stream",
     "text": [
      "string doesn't contains all the numbers...\n"
     ]
    }
   ],
   "source": [
    "#38. python program to Check if a string contains only digits.\n",
    "\n",
    "# Initialising string\n",
    "string=input(\"Enter string:\")\n",
    "if string.isdigit():\n",
    "    print(\"string contains all the numbers...\")\n",
    "else:\n",
    "    print(\"string doesn't contains all the numbers...\")"
   ]
  },
  {
   "cell_type": "code",
   "execution_count": 46,
   "id": "e41d902a-7b5f-44d3-8ccc-4864fbf813d9",
   "metadata": {},
   "outputs": [
    {
     "name": "stdin",
     "output_type": "stream",
     "text": [
      "Enter string: ishan123\n"
     ]
    },
    {
     "name": "stdout",
     "output_type": "stream",
     "text": [
      "string doesn't contains all the alphabets...\n"
     ]
    }
   ],
   "source": [
    "#39. python program Check if a string contains only alphabets.\n",
    "string=input(\"Enter string:\")\n",
    "if string.isalpha():\n",
    "    print(\"string contains all the alphabets...\")\n",
    "else:\n",
    "    print(\"string doesn't contains all the alphabets...\")"
   ]
  },
  {
   "cell_type": "code",
   "execution_count": 50,
   "id": "8ab34f60-166d-4ca4-8a15-ade6429911ca",
   "metadata": {},
   "outputs": [
    {
     "name": "stdin",
     "output_type": "stream",
     "text": [
      "Enter string: ishan\n"
     ]
    },
    {
     "name": "stdout",
     "output_type": "stream",
     "text": [
      "['i', 's', 'h', 'a', 'n']\n"
     ]
    }
   ],
   "source": [
    "#40. python program to Convert a string to a list of characters\n",
    "\n",
    "string=input(\"Enter string:\")\n",
    "l= []\n",
    "for letter in string:\n",
    "    l.append(letter)\n",
    "    \n",
    "print(l)"
   ]
  },
  {
   "cell_type": "code",
   "execution_count": 54,
   "id": "71ff470e-6693-4902-ae54-aff1fc2cf303",
   "metadata": {},
   "outputs": [
    {
     "name": "stdin",
     "output_type": "stream",
     "text": [
      "Enter string: listen\n",
      "Enter string: silen\n"
     ]
    },
    {
     "name": "stdout",
     "output_type": "stream",
     "text": [
      "The strings aren't anagrams.\n"
     ]
    }
   ],
   "source": [
    "#41. python program to Check if two strings are anagrams\n",
    "\n",
    "s1=input(\"Enter string:\")\n",
    "s2=input(\"Enter string:\")\n",
    "if(sorted(s1)== sorted(s2)):\n",
    "    print(\"The strings are anagrams.\") \n",
    "else:\n",
    "    print(\"The strings aren't anagrams.\")      "
   ]
  },
  {
   "cell_type": "code",
   "execution_count": 71,
   "id": "c142cf68-f6b6-494e-9410-073b738d2b5d",
   "metadata": {},
   "outputs": [
    {
     "name": "stdout",
     "output_type": "stream",
     "text": [
      "\n",
      "['c', 'd', 'e']\n",
      "\n"
     ]
    }
   ],
   "source": [
    "#42. python program to Encode a string using a Caesar cipher \n",
    "\n",
    "def caesar_encrypt(realText, step):\n",
    "    outText = []\n",
    "    cryptText = []\n",
    "\n",
    "    uppercase = ['A', 'B', 'C', 'D', 'E', 'F', 'G', 'H', 'I', 'J', 'K', 'L', 'M', 'N', 'O', 'P', 'Q', 'R', 'S', 'T', 'U', 'V', 'W', 'X', 'Y', 'Z']\n",
    "    lowercase = ['a', 'b', 'c', 'd', 'e', 'f', 'g', 'h', 'i', 'j', 'k', 'l', 'm', 'n', 'o', 'p', 'q', 'r', 's', 't', 'u', 'v', 'w', 'x', 'y', 'z']\n",
    "\n",
    "    for eachLetter in realText:\n",
    "        if eachLetter in uppercase:\n",
    "            index = uppercase.index(eachLetter)\n",
    "            crypting = (index + step) % 26\n",
    "            cryptText.append(crypting)\n",
    "            newLetter = uppercase[crypting]\n",
    "            outText.append(newLetter)\n",
    "        elif eachLetter in lowercase:\n",
    "            index = lowercase.index(eachLetter)\n",
    "            crypting = (index + step) % 26\n",
    "            cryptText.append(crypting)\n",
    "            newLetter = lowercase[crypting]\n",
    "            outText.append(newLetter)\n",
    "    return outText\n",
    "\n",
    "code = caesar_encrypt('abc', 2)\n",
    "print()\n",
    "print(code)\n",
    "print()\n"
   ]
  },
  {
   "cell_type": "code",
   "execution_count": 4,
   "id": "e005896c-606a-4e63-9291-c6639f8089a3",
   "metadata": {},
   "outputs": [
    {
     "name": "stdin",
     "output_type": "stream",
     "text": [
      "Enter the message i.e to be decrypted:  KYZJ ZJ R MVIP TFFC DVJJRXV\n",
      "Enter the key to decrypt:  10\n"
     ]
    },
    {
     "name": "stdout",
     "output_type": "stream",
     "text": [
      "Your decrypted message is:\n",
      "\n",
      "KYZJ ZJ R MVIP TFFC DVJJRXV\n"
     ]
    }
   ],
   "source": []
  },
  {
   "cell_type": "code",
   "execution_count": 8,
   "id": "026a3546-f423-4cb4-a38a-8826020bdf04",
   "metadata": {},
   "outputs": [
    {
     "name": "stdin",
     "output_type": "stream",
     "text": [
      "Enter encrypted text python program\n"
     ]
    },
    {
     "name": "stdout",
     "output_type": "stream",
     "text": [
      "Encrypted text: python program\n",
      "Decrypted text: python program\n",
      "Encrypted text: KHOOR ZRUOG\n",
      "Decrypted text: HELLO WORLD\n"
     ]
    }
   ],
   "source": [
    "#43. python program to Decode a Caesar cipher encoded string\n",
    "\n",
    "shift = 3 # defining the shift count\n",
    "\n",
    "encrypted_text = input(\"Enter encrypted text\")\n",
    "\n",
    "plain_text = \"\"\n",
    "\n",
    "for c in encrypted_text:\n",
    "\n",
    "    # check if character is an uppercase letter\n",
    "    if c.isupper():\n",
    "\n",
    "        # find the position in 0-25\n",
    "        c_unicode = ord(c)\n",
    "\n",
    "        c_index = ord(c) - ord(\"A\")\n",
    "\n",
    "        # perform the negative shift\n",
    "        new_index = (c_index - shift) % 26\n",
    "\n",
    "        # convert to new character\n",
    "        new_unicode = new_index + ord(\"A\")\n",
    "\n",
    "        new_character = chr(new_unicode)\n",
    "\n",
    "        # append to plain string\n",
    "        plain_text = plain_text + new_character\n",
    "\n",
    "    else:\n",
    "\n",
    "        # since character is not uppercase, leave it as it is\n",
    "        plain_text += c\n",
    "\n",
    "print(\"Encrypted text:\",encrypted_text)\n",
    "\n",
    "print(\"Decrypted text:\",plain_text)#*shift = 3 defining the shift count\n",
    "\n",
    "encrypted_text = \"KHOOR ZRUOG\"\n",
    "\n",
    "plain_text = \"\"\n",
    "\n",
    "for c in encrypted_text:\n",
    "\n",
    "    # check if character is an uppercase letter\n",
    "    if c.isupper():\n",
    "\n",
    "        # find the position in 0-25\n",
    "        c_unicode = ord(c)\n",
    "\n",
    "        c_index = ord(c) - ord(\"A\")\n",
    "\n",
    "        # perform the negative shift\n",
    "        new_index = (c_index - shift) % 26\n",
    "\n",
    "        # convert to new character\n",
    "        new_unicode = new_index + ord(\"A\")\n",
    "\n",
    "        new_character = chr(new_unicode)\n",
    "\n",
    "        # append to plain string\n",
    "        plain_text = plain_text + new_character\n",
    "\n",
    "    else:\n",
    "\n",
    "        # since character is not uppercase, leave it as it is\n",
    "        plain_text += c\n",
    "\n",
    "print(\"Encrypted text:\",encrypted_text)\n",
    "\n",
    "print(\"Decrypted text:\",plain_text)"
   ]
  },
  {
   "cell_type": "code",
   "execution_count": 9,
   "id": "f5528d35-e09d-408a-a000-34b5589b664a",
   "metadata": {},
   "outputs": [
    {
     "name": "stdout",
     "output_type": "stream",
     "text": [
      "The list is :\n",
      "['python is best for coders', 'python is fun', 'python is easy to learn']\n",
      "The word that has the maximum frequency :\n",
      "python\n"
     ]
    }
   ],
   "source": [
    "#44. python program to Find the most frequent word in a string.\n",
    "\n",
    "from collections import defaultdict\n",
    "my_list = [\"python is best for coders\", \"python is fun\", \"python is easy to learn\"]\n",
    "\n",
    "print(\"The list is :\")\n",
    "print(my_list)\n",
    "\n",
    "my_temp = defaultdict(int)\n",
    "\n",
    "for sub in my_list:\n",
    "   for word in sub.split():\n",
    "      my_temp[word] += 1\n",
    "\n",
    "result = max(my_temp, key=my_temp.get)\n",
    "\n",
    "print(\"The word that has the maximum frequency :\")\n",
    "print(result)"
   ]
  },
  {
   "cell_type": "code",
   "execution_count": 4,
   "id": "0ddce271-470b-4c0d-966d-960b9d53b88d",
   "metadata": {},
   "outputs": [
    {
     "name": "stdout",
     "output_type": "stream",
     "text": [
      "The given txt file content is :\n",
      "\n",
      "this is the string to test,this program counts unique words\n",
      "\n",
      "The words given in the txt file are :\n",
      "\n",
      "['this', 'is', 'the', 'string', 'to', 'test,this', 'program', 'counts', 'unique', 'words']\n",
      "\n",
      "The unique words given in this txt file are :\n",
      "\n",
      "{'to', 'is', 'counts', 'string', 'test,this', 'program', 'unique', 'words', 'this', 'the'}\n",
      "\n",
      "The number of unique words given in this txt file are :\n",
      "\n",
      "10\n"
     ]
    }
   ],
   "source": [
    "# 45. python program to Find all unique words in a string\n",
    "\n",
    "# Use open method to open the respective text file\n",
    "file = \"THIS IS THE STRING TO TEST,THIS PROGRAM COUNTS UNIQUE WORDS\"\n",
    "#Conversion of its content to lowercase\n",
    "thegiventxtfile = file.lower()\n",
    "\n",
    "#ALter the sentences to the list of words\n",
    "words_in_file = thegiventxtfile.split()\n",
    "\n",
    "print(\"The given txt file content is :\\n\")\n",
    "print(thegiventxtfile)\n",
    "print(\"\\nThe words given in the txt file are :\\n\")\n",
    "print(words_in_file)\n",
    "print(\"\\nThe unique words given in this txt file are :\\n\")\n",
    "\n",
    "#Convert to the python set\n",
    "uniqueWords=set(words_in_file)\n",
    "\n",
    "print(uniqueWords) \n",
    "\n",
    "#Find the number of words left in this list\n",
    "numberofuniquewords=len(uniqueWords)\n",
    "\n",
    "print(\"\\nThe number of unique words given in this txt file are :\\n\")\n",
    "print(numberofuniquewords)\n"
   ]
  },
  {
   "cell_type": "code",
   "execution_count": 6,
   "id": "94b7f675-b4a1-4441-83b4-18f7762d1e4b",
   "metadata": {},
   "outputs": [
    {
     "data": {
      "text/plain": [
       "1"
      ]
     },
     "execution_count": 6,
     "metadata": {},
     "output_type": "execute_result"
    }
   ],
   "source": [
    "# 46. Python program to count the syllables in a word\n",
    "\n",
    "def count(word):\n",
    "    syllables = 1\n",
    "    for letter in word:\n",
    "        if letter == \"-\":\n",
    "            syllables = syllables + 1\n",
    "    return syllables\n",
    "\n",
    "count(\"Ishan Bhalerao\")"
   ]
  },
  {
   "cell_type": "code",
   "execution_count": 7,
   "id": "ff73e8b3-7dd9-4724-931a-a15d7e46f62f",
   "metadata": {},
   "outputs": [
    {
     "name": "stdout",
     "output_type": "stream",
     "text": [
      "[True, True, True]\n"
     ]
    }
   ],
   "source": [
    "# 47. Python program to Check if a string contains any special characters\n",
    "\n",
    "s = \"@geeksforgeeks%\"\n",
    "arr= [\"o\",\"e\",\"%\"]\n",
    "new_list=[]\n",
    "for i in arr:\n",
    "\tif(s.find(i)>0):\n",
    "\t\tnew_list.append(True)\n",
    "\telse:\n",
    "\t\tnew_list.append(False)\n",
    "print(new_list)\n"
   ]
  },
  {
   "cell_type": "code",
   "execution_count": 11,
   "id": "3c6ce7a6-c289-43f6-b3a2-ec7cd9b1fcb6",
   "metadata": {},
   "outputs": [
    {
     "name": "stdout",
     "output_type": "stream",
     "text": [
      "Updated list is:  ['geeks', 'for']\n"
     ]
    }
   ],
   "source": [
    "# 48. Python program to Remove the nth word from a string\n",
    "\n",
    "# Python3 program to remove Nth\n",
    "# occurrence of the given word\n",
    "\n",
    "# Function to remove Ith word\n",
    "\n",
    "\n",
    "def RemoveIthWord(list, word, N):\n",
    "\tcount = 0\n",
    "\n",
    "\tfor i in range(0, len(list)):\n",
    "\t\tif (list[i] == word):\n",
    "\t\t\tcount = count + 1\n",
    "\n",
    "\t\t\tif(count == N):\n",
    "\t\t\t\tdel(list[i])\n",
    "\t\t\t\treturn True\n",
    "\n",
    "\treturn False\n",
    "\n",
    "\n",
    "# Driver code\n",
    "list = ['geeks', 'for', 'geeks']\n",
    "word = 'geeks'\n",
    "N = 2\n",
    "\n",
    "flag = RemoveIthWord(list, word, N)\n",
    "\n",
    "if (flag == True):\n",
    "\tprint(\"Updated list is: \", list)\n",
    "else:\n",
    "\tprint(\"Item not Updated\")\n"
   ]
  },
  {
   "cell_type": "code",
   "execution_count": 12,
   "id": "6e92d824-ae46-4260-848b-a12974487f20",
   "metadata": {},
   "outputs": [
    {
     "name": "stdout",
     "output_type": "stream",
     "text": [
      "Adding 'p' at 9th index of an input string:\n",
      " tutorialspoint\n"
     ]
    }
   ],
   "source": [
    "# 49 Python program to Insert a word at the nth position in a string.\n",
    "\n",
    "# input string\n",
    "inputString = \"tutorialsoint\"\n",
    "\n",
    "# adding character 'p' at a specific position i.e, at index 9\n",
    "inputString = inputString[:9] + 'p' + inputString[9:]\n",
    "\n",
    "# printing the resultant string \n",
    "print(\"Adding 'p' at 9th index of an input string:\\n\", inputString)"
   ]
  },
  {
   "cell_type": "code",
   "execution_count": 15,
   "id": "11e71e28-95b2-478d-8fa4-092434d7bce8",
   "metadata": {},
   "outputs": [
    {
     "name": "stdout",
     "output_type": "stream",
     "text": [
      "['Name', ' Age', ' Country']\n",
      "['John', ' 25', ' USA']\n",
      "['Alice', ' 30', ' Canada']\n",
      "['Bob', ' 22', ' UK']\n"
     ]
    }
   ],
   "source": [
    "# 50. Python program to Convert a CSV string to a list of lists.\n",
    "\n",
    "def csv_string_to_list(csv_string):\n",
    "    # Split the CSV string into lines\n",
    "    lines = csv_string.split('\\n')\n",
    "\n",
    "    # Initialize an empty list to store the result\n",
    "    result = []\n",
    "\n",
    "    for line in lines:\n",
    "        # Split each line into fields using comma as the delimiter\n",
    "        fields = line.split(',')\n",
    "\n",
    "        # Append the fields to the result list as a row\n",
    "        result.append(fields)\n",
    "\n",
    "    return result\n",
    "\n",
    "# Example CSV string\n",
    "csv_data = \"Name, Age, Country\\nJohn, 25, USA\\nAlice, 30, Canada\\nBob, 22, UK\"\n",
    "\n",
    "# Convert CSV string to a list of lists\n",
    "list_of_lists = csv_string_to_list(csv_data)\n",
    "\n",
    "# Print the result\n",
    "for row in list_of_lists:\n",
    "    print(row)"
   ]
  },
  {
   "cell_type": "markdown",
   "id": "a136b3c1-13bc-497b-b25e-c45df46e5d4b",
   "metadata": {},
   "source": [
    "Lists Based Assignments"
   ]
  },
  {
   "cell_type": "code",
   "execution_count": 16,
   "id": "0f754de1-bb53-49cb-aa8a-6fb6491b2ec4",
   "metadata": {},
   "outputs": [
    {
     "data": {
      "text/plain": [
       "[1, 2, 3, 4, 5, 6, 7, 8, 9, 10]"
      ]
     },
     "execution_count": 16,
     "metadata": {},
     "output_type": "execute_result"
    }
   ],
   "source": [
    "# 1.Create a list with integers from 1 to 10.\n",
    "l=[i for i in range(1,11)]\n",
    "l"
   ]
  },
  {
   "cell_type": "code",
   "execution_count": 1,
   "id": "767a5651-0f84-47bd-8e2e-e8d4b01ae67b",
   "metadata": {},
   "outputs": [
    {
     "name": "stdout",
     "output_type": "stream",
     "text": [
      "No of items in a list: 6\n"
     ]
    }
   ],
   "source": [
    "# 2. Find the length of a list without using the `len()` function\n",
    "\n",
    "list =['ishan','bhalerao',1,2,3,9.6]\n",
    "list\n",
    "count=0\n",
    "for i in list:\n",
    "    count=count+1\n",
    "print(\"No of items in a list:\",count) "
   ]
  },
  {
   "cell_type": "code",
   "execution_count": 4,
   "id": "6e2c58ff-d914-4e9c-9c2a-04e880c31aaa",
   "metadata": {},
   "outputs": [
    {
     "data": {
      "text/plain": [
       "['ishan', 'bhalerao', 1, 2, 3, 9.6, 'True']"
      ]
     },
     "execution_count": 4,
     "metadata": {},
     "output_type": "execute_result"
    }
   ],
   "source": [
    "#3. Append an element to the end of the list\n",
    "list =['ishan','bhalerao',1,2,3,9.6]\n",
    "list\n",
    "list.append(\"True\")\n",
    "list"
   ]
  },
  {
   "cell_type": "code",
   "execution_count": 5,
   "id": "9b40a5b5-6234-47b6-adcf-4f969ab6e6fb",
   "metadata": {},
   "outputs": [
    {
     "data": {
      "text/plain": [
       "['ishan', 'bhalerao', 'pwskills', 1, 2, 3, 9.6]"
      ]
     },
     "execution_count": 5,
     "metadata": {},
     "output_type": "execute_result"
    }
   ],
   "source": [
    "#4. Insert an element at a specific index in a list.\n",
    "list =['ishan','bhalerao',1,2,3,9.6]\n",
    "list.insert(2,\"pwskills\")\n",
    "list"
   ]
  },
  {
   "cell_type": "code",
   "execution_count": 8,
   "id": "c74675c7-ab86-4092-9b6f-8342f4ee3798",
   "metadata": {},
   "outputs": [
    {
     "data": {
      "text/plain": [
       "['ishan', 'bhalerao', 1, 2, 9.6]"
      ]
     },
     "execution_count": 8,
     "metadata": {},
     "output_type": "execute_result"
    }
   ],
   "source": [
    "#5. Remove an element from a list by its value\n",
    "list =['ishan','bhalerao',1,2,3,9.6]\n",
    "list.remove(3)\n",
    "list"
   ]
  },
  {
   "cell_type": "code",
   "execution_count": 11,
   "id": "30205ee7-44e7-4fc1-9bf8-87c679a18031",
   "metadata": {},
   "outputs": [
    {
     "data": {
      "text/plain": [
       "['ishan', 'bhalerao', 1, 3, 9.6]"
      ]
     },
     "execution_count": 11,
     "metadata": {},
     "output_type": "execute_result"
    }
   ],
   "source": [
    "#6. Remove an element from a list by its index.\n",
    "\n",
    "list =['ishan','bhalerao',1,2,3,9.6]\n",
    "list.pop(3)\n",
    "list\n"
   ]
  },
  {
   "cell_type": "code",
   "execution_count": 22,
   "id": "92b9b2de-ad77-4b4c-b595-d6704660df41",
   "metadata": {},
   "outputs": [
    {
     "name": "stdout",
     "output_type": "stream",
     "text": [
      "element found\n"
     ]
    }
   ],
   "source": [
    "#7. Check if an element exists in a list.\n",
    "f=0\n",
    "list =['ishan','bhalerao',1,2,3,9.6]\n",
    "for i in list:\n",
    "    if \"ishan\" in list:\n",
    "        f=1\n",
    "    else:\n",
    "        f=0\n",
    "if f==1:\n",
    "     print(\"element found\")\n",
    "else:\n",
    "     print(\"element not found\")\n",
    "        "
   ]
  },
  {
   "cell_type": "code",
   "execution_count": 24,
   "id": "389f2dcf-0189-4270-bc26-aa7d08c7a19a",
   "metadata": {},
   "outputs": [
    {
     "name": "stdout",
     "output_type": "stream",
     "text": [
      "0\n"
     ]
    }
   ],
   "source": [
    "#8. Find the index of the first occurrence of an element in a list.\n",
    "list =['ishan','bhalerao',1,2,3,9.6,\"ishan\"]\n",
    "print(list.index(\"ishan\"))"
   ]
  },
  {
   "cell_type": "code",
   "execution_count": 25,
   "id": "bc1c7515-7779-4d06-868f-4557acf0e991",
   "metadata": {},
   "outputs": [
    {
     "name": "stdout",
     "output_type": "stream",
     "text": [
      "2\n"
     ]
    }
   ],
   "source": [
    "#9. Count the occurrences of an element in a list.\n",
    "list =['ishan','bhalerao',1,2,3,9.6,\"ishan\"]\n",
    "print(list.count(\"ishan\"))"
   ]
  },
  {
   "cell_type": "code",
   "execution_count": 29,
   "id": "50bc9640-2018-4e75-bb59-276f659bf5d3",
   "metadata": {},
   "outputs": [
    {
     "data": {
      "text/plain": [
       "['ishan', 9.6, 3, 2, 1, 'bhalerao', 'ishan']"
      ]
     },
     "execution_count": 29,
     "metadata": {},
     "output_type": "execute_result"
    }
   ],
   "source": [
    "#10. Reverse the order of elements in a list.\n",
    "list =['ishan','bhalerao',1,2,3,9.6,\"ishan\"]\n",
    "list.reverse()\n",
    "list"
   ]
  },
  {
   "cell_type": "code",
   "execution_count": 31,
   "id": "61268559-9b23-4bbe-a09c-4c54893f3ffb",
   "metadata": {},
   "outputs": [
    {
     "data": {
      "text/plain": [
       "[-4, 1, 2, 3, 4, 9.6]"
      ]
     },
     "execution_count": 31,
     "metadata": {},
     "output_type": "execute_result"
    }
   ],
   "source": [
    "#11. Sort a list in ascending order.\n",
    "list =[1,2,3,9.6,-4,4]\n",
    "list.sort()\n",
    "list"
   ]
  },
  {
   "cell_type": "code",
   "execution_count": 32,
   "id": "afeab4f3-31ed-4eb6-82e2-33358b55fe8f",
   "metadata": {},
   "outputs": [
    {
     "data": {
      "text/plain": [
       "[9.6, 4, 3, 2, 1, -4]"
      ]
     },
     "execution_count": 32,
     "metadata": {},
     "output_type": "execute_result"
    }
   ],
   "source": [
    "#12. Sort a list in descendingorder.\n",
    "list =[1,2,3,9.6,-4,4]\n",
    "list.sort(reverse=True)\n",
    "list"
   ]
  },
  {
   "cell_type": "code",
   "execution_count": 33,
   "id": "9fb55ab8-79fd-4c4e-ba27-fe437f28db39",
   "metadata": {},
   "outputs": [
    {
     "data": {
      "text/plain": [
       "[2, 4, 6, 8, 10, 12, 14, 16, 18, 20]"
      ]
     },
     "execution_count": 33,
     "metadata": {},
     "output_type": "execute_result"
    }
   ],
   "source": [
    "#13. Create a list of even numbers from 1 to 20.\n",
    "l=[i for i in range(1,21) if i%2==0]\n",
    "l"
   ]
  },
  {
   "cell_type": "code",
   "execution_count": 35,
   "id": "6b6afdf0-4c68-4f19-8242-261e55b41ad8",
   "metadata": {},
   "outputs": [
    {
     "data": {
      "text/plain": [
       "[1, 3, 5, 7, 9, 11, 13, 15, 17, 19]"
      ]
     },
     "execution_count": 35,
     "metadata": {},
     "output_type": "execute_result"
    }
   ],
   "source": [
    "#14. Create a list of even numbers from 1 to 20.\n",
    "l=[i for i in range(1,21) if i%2!=0]\n",
    "l"
   ]
  },
  {
   "cell_type": "code",
   "execution_count": 36,
   "id": "2c821ddb-ad27-4253-ad99-ba43a6b58991",
   "metadata": {},
   "outputs": [
    {
     "name": "stdout",
     "output_type": "stream",
     "text": [
      "sum is= 55\n"
     ]
    }
   ],
   "source": [
    "#15. Find the sum of all elements in a list.\n",
    "l=[1,2,3,4,5,6,7,8,9,10]\n",
    "sum=0\n",
    "for i in l:\n",
    "    sum=sum+i\n",
    "print(\"sum is=\",sum)"
   ]
  },
  {
   "cell_type": "code",
   "execution_count": 38,
   "id": "c61ba4df-8d29-48e3-9815-d45c6cda42fd",
   "metadata": {},
   "outputs": [
    {
     "name": "stdout",
     "output_type": "stream",
     "text": [
      "Max is: 10\n"
     ]
    }
   ],
   "source": [
    "#16. Find the maximum value in a list.\n",
    "l=[1,2,3,4,5,6,7,8,9,10]\n",
    "print(\"Max is:\",max(l))"
   ]
  },
  {
   "cell_type": "code",
   "execution_count": 39,
   "id": "199edeeb-e762-45b2-b667-14a9363f77b6",
   "metadata": {},
   "outputs": [
    {
     "name": "stdout",
     "output_type": "stream",
     "text": [
      "Min is: 1\n"
     ]
    }
   ],
   "source": [
    "#17. Find the minimum value in a list.\n",
    "l=[1,2,3,4,5,6,7,8,9,10]\n",
    "print(\"Min is:\",min(l))"
   ]
  },
  {
   "cell_type": "code",
   "execution_count": 40,
   "id": "9db50719-f3f7-43e6-b588-6f5dbd09bcab",
   "metadata": {},
   "outputs": [
    {
     "data": {
      "text/plain": [
       "[1, 4, 9, 16, 25, 36, 49, 64, 81, 100]"
      ]
     },
     "execution_count": 40,
     "metadata": {},
     "output_type": "execute_result"
    }
   ],
   "source": [
    "#18. Create a list of squares of numbers from 1 to 10.\n",
    "l=[1,2,3,4,5,6,7,8,9,10]\n",
    "square_list=[i*i for i in l]\n",
    "square_list"
   ]
  },
  {
   "cell_type": "code",
   "execution_count": 41,
   "id": "8eac47af-8973-4ff1-9175-1f3675aa1804",
   "metadata": {},
   "outputs": [
    {
     "name": "stdout",
     "output_type": "stream",
     "text": [
      "[4, 6, 5, 4, 7, 7, 3, 9, 7, 3]\n"
     ]
    }
   ],
   "source": [
    "#19. Create a list of random numbers\n",
    "\n",
    "import random\n",
    "\n",
    "rand_list=[]\n",
    "n=10\n",
    "for i in range(n):\n",
    "\trand_list.append(random.randint(3,9))\n",
    "print(rand_list)"
   ]
  },
  {
   "cell_type": "code",
   "execution_count": 1,
   "id": "c1a68846-7d8b-4821-91e9-f71572ade673",
   "metadata": {},
   "outputs": [
    {
     "name": "stdout",
     "output_type": "stream",
     "text": [
      "The list is: [11, 13, 15, 16, 13, 15, 16, 11]\n",
      "The list after removing duplicates : [11, 13, 15, 16]\n"
     ]
    }
   ],
   "source": [
    "#20. Remove duplicates from a list.\n",
    "\n",
    "# initializing list \n",
    "# removing duplicated from the list using naive methods \n",
    "\n",
    "# initializing list \n",
    "sam_list = [11, 13, 15, 16, 13, 15, 16, 11] \n",
    "print (\"The list is: \" + str(sam_list)) \n",
    "\n",
    "# remove duplicated from list \n",
    "result = [] \n",
    "for i in sam_list: \n",
    "    if i not in result: \n",
    "        result.append(i) \n",
    "\n",
    "# printing list after removal \n",
    "print (\"The list after removing duplicates : \" + str(result)) "
   ]
  },
  {
   "cell_type": "code",
   "execution_count": 3,
   "id": "528cd918-afb4-4d94-8aeb-9069bab8c63a",
   "metadata": {},
   "outputs": [
    {
     "data": {
      "text/plain": [
       "[3, 4]"
      ]
     },
     "execution_count": 3,
     "metadata": {},
     "output_type": "execute_result"
    }
   ],
   "source": [
    "#21. Find the common elements between two lists.\n",
    "a= [2,3,4,5]\n",
    "b= [3,4,6,7]\n",
    "\n",
    "c=set(a).intersection(set(b))\n",
    "list(c)"
   ]
  },
  {
   "cell_type": "code",
   "execution_count": 10,
   "id": "3301dcdf-0f2c-4053-abec-abde14daf2e7",
   "metadata": {},
   "outputs": [
    {
     "data": {
      "text/plain": [
       "[2, 5]"
      ]
     },
     "execution_count": 10,
     "metadata": {},
     "output_type": "execute_result"
    }
   ],
   "source": [
    "#22. Find the difference between two lists.\n",
    "a= [2,3,4,5]\n",
    "b= [3,4,6,7]\n",
    "c=[]\n",
    "for i in a:\n",
    "    if i not in b:\n",
    "        c.append(i)\n",
    "c     \n",
    "\n",
    "# second way\n",
    "a= [2,3,4,5]\n",
    "b= [3,4,6,7]\n",
    "c=[]\n",
    "c=set(a).difference(set(b))\n",
    "list(c)"
   ]
  },
  {
   "cell_type": "code",
   "execution_count": 12,
   "id": "ada884ff-236f-4872-a126-599c50d1f23d",
   "metadata": {},
   "outputs": [
    {
     "name": "stdout",
     "output_type": "stream",
     "text": [
      "Concatenated list using naive method : [2, 3, 4, 5, 3, 4, 6, 7]\n"
     ]
    }
   ],
   "source": [
    "#23. Merge two lists.\n",
    "\n",
    "a= [2,3,4,5]\n",
    "b= [3,4,6,7]\n",
    "c=[]\n",
    "for i in b:\n",
    "    a.append(i)\n",
    "    \n",
    "print (\"Concatenated list using naive method : \"+ str(a))"
   ]
  },
  {
   "cell_type": "code",
   "execution_count": 13,
   "id": "24bca63b-0d4b-46d3-9478-07358816efbd",
   "metadata": {},
   "outputs": [
    {
     "data": {
      "text/plain": [
       "[2, 4, 6, 8, 10]"
      ]
     },
     "execution_count": 13,
     "metadata": {},
     "output_type": "execute_result"
    }
   ],
   "source": [
    "#24. Multiply all elements in a list by 2.\n",
    "a=[1,2,3,4,5]\n",
    "b=[i*2 for i in a]\n",
    "b"
   ]
  },
  {
   "cell_type": "code",
   "execution_count": 14,
   "id": "cd160646-80ce-4572-a250-c1e86268c9b9",
   "metadata": {},
   "outputs": [
    {
     "data": {
      "text/plain": [
       "[2, 4]"
      ]
     },
     "execution_count": 14,
     "metadata": {},
     "output_type": "execute_result"
    }
   ],
   "source": [
    "#25. Filter out all even numbers from a list.\n",
    "\n",
    "a=[1,2,3,4,5]\n",
    "b=[i for i in a if i%2==0]\n",
    "b"
   ]
  },
  {
   "cell_type": "code",
   "execution_count": 19,
   "id": "a12b30b6-9c0a-497f-be18-264597baf486",
   "metadata": {},
   "outputs": [
    {
     "data": {
      "text/plain": [
       "[1, 2, 3, 4]"
      ]
     },
     "execution_count": 19,
     "metadata": {},
     "output_type": "execute_result"
    }
   ],
   "source": [
    "#26. Convert a list of strings to a list of integers.\n",
    "\n",
    "a=[\"1\",\"2\",\"3\",\"4\"]\n",
    "b=[eval(i) for i in a]\n",
    "b"
   ]
  },
  {
   "cell_type": "code",
   "execution_count": 21,
   "id": "27feb2c0-5d79-4271-a54a-475461cbddbf",
   "metadata": {},
   "outputs": [
    {
     "data": {
      "text/plain": [
       "['1', '2', '3', '4']"
      ]
     },
     "execution_count": 21,
     "metadata": {},
     "output_type": "execute_result"
    }
   ],
   "source": [
    "#27. Convert a list of integers to a list of strings.\n",
    "\n",
    "a=[1,2,3,4]\n",
    "b=[str(i) for i in a]\n",
    "b"
   ]
  },
  {
   "cell_type": "code",
   "execution_count": 22,
   "id": "bacba665-54dd-455b-9737-9f8880dc6b62",
   "metadata": {},
   "outputs": [
    {
     "name": "stdout",
     "output_type": "stream",
     "text": [
      "[1, 2, 3, 4, 5, 6, 7]\n"
     ]
    }
   ],
   "source": [
    "#28. Flatten a nested list.\n",
    "\n",
    "my_list = [[1], [2, 3], [4, 5, 6, 7]]\n",
    "\n",
    "flat_list = []\n",
    "for sublist in my_list:\n",
    "    for num in sublist:\n",
    "        flat_list.append(num)\n",
    "\n",
    "print(flat_list)"
   ]
  },
  {
   "cell_type": "code",
   "execution_count": 34,
   "id": "cdd63bc1-c56e-4bb6-b35d-0e380e3f9bec",
   "metadata": {},
   "outputs": [
    {
     "name": "stdout",
     "output_type": "stream",
     "text": [
      "Fibonacci Series: 0 1 1 2 3 5 8 13 21 34 \n"
     ]
    }
   ],
   "source": [
    "#29. Create a list of the first 10 Fibonacci numbers.\n",
    "num = 10\n",
    "n1, n2 = 0, 1\n",
    "f=[]\n",
    "print(\"Fibonacci Series:\", n1, n2, end=\" \")\n",
    "for i in range(2, num):\n",
    "    n3 = n1 + n2\n",
    "    n1 = n2\n",
    "    n2 = n3\n",
    "    print(n3,end=\" \")\n",
    "    \n",
    "print()\n"
   ]
  },
  {
   "cell_type": "code",
   "execution_count": 5,
   "id": "7941860a-8a9b-4ba8-b48a-c924d6f5c453",
   "metadata": {},
   "outputs": [
    {
     "name": "stdout",
     "output_type": "stream",
     "text": [
      "Original list : [1, 4, 5, 8, 10]\n",
      "Yes, List is sorted.\n"
     ]
    }
   ],
   "source": [
    "#30. Check if a list is sorted.\n",
    "# Python3 code to demonstrate \n",
    "# to check if list is sorted\n",
    "# using sorted()\n",
    "\n",
    "# initializing list\n",
    "test_list = [1, 4, 5, 8, 10]\n",
    "\n",
    "# printing original list \n",
    "print (\"Original list : \" + str(test_list))\n",
    "\n",
    "# using sorted() to \n",
    "# check sorted list \n",
    "flag = 0\n",
    "if(test_list == sorted(test_list)):\n",
    "\tflag = 1\n",
    "\t\n",
    "# printing result\n",
    "if (flag) :\n",
    "\tprint (\"Yes, List is sorted.\")\n",
    "else :\n",
    "\tprint (\"No, List is not sorted.\")\n"
   ]
  },
  {
   "cell_type": "code",
   "execution_count": 6,
   "id": "d4058f7e-c729-409c-bcb1-20999451ad4f",
   "metadata": {},
   "outputs": [
    {
     "name": "stdout",
     "output_type": "stream",
     "text": [
      "Original list : [1, 4, 6, 7, 2]\n",
      "List after left rotate by 3 : [7, 2, 1, 4, 6]\n",
      "List after right rotate by 3(back to original) : [1, 4, 6, 7, 2]\n"
     ]
    }
   ],
   "source": [
    "#31. Rotate a list to the left by `n` positions.\n",
    "# initializing list\n",
    "test_list = [1, 4, 6, 7, 2]\n",
    "\n",
    "# printing original list\n",
    "print (\"Original list : \" + str(test_list))\n",
    "\n",
    "# using slicing to left rotate by 3\n",
    "test_list = test_list[3:] + test_list[:3]\n",
    "\n",
    "# Printing list after left rotate\n",
    "print (\"List after left rotate by 3 : \" + str(test_list))\n",
    "\n",
    "# using slicing to right rotate by 3\n",
    "# back to Original\n",
    "test_list = test_list[-3:] + test_list[:-3]\n",
    "\n",
    "# Printing after right rotate\n",
    "print (\"List after right rotate by 3(back to original) : \"\n",
    "\t\t\t\t\t\t\t\t\t\t+ str(test_list))\n"
   ]
  },
  {
   "cell_type": "code",
   "execution_count": 7,
   "id": "ac4d50a8-d606-4359-b2d2-472e72ea7928",
   "metadata": {},
   "outputs": [
    {
     "name": "stdout",
     "output_type": "stream",
     "text": [
      "[4, 5, 6, 1, 2, 3]\n"
     ]
    }
   ],
   "source": [
    "#32. Rotate a list to the right by `n` positions.\n",
    "\n",
    "# Python program to right rotate \n",
    "# a list by n using list slicing\n",
    "n = 3\n",
    "\n",
    "list_1 = [1, 2, 3, 4, 5, 6]\n",
    "list_1 = (list_1[len(list_1) - n:len(list_1)] \n",
    "\t\t\t\t+ list_1[0:len(list_1) - n])\n",
    "print(list_1)\n"
   ]
  },
  {
   "cell_type": "code",
   "execution_count": 11,
   "id": "a2edc4e1-351c-4d8f-8c5b-8accf701e56f",
   "metadata": {},
   "outputs": [
    {
     "name": "stdout",
     "output_type": "stream",
     "text": [
      "[2, 3, 5, 7, 11, 13, 17, 19, 23, 29, 31, 37, 41, 43, 47]\n"
     ]
    }
   ],
   "source": [
    "#33. Create a list of prime numbers up to 50.\n",
    "\n",
    "print([i for i in range(2, 50) if 0 not in [i%n for n in range(2, i)]])"
   ]
  },
  {
   "cell_type": "code",
   "execution_count": 12,
   "id": "bd5d2814-1a7f-4743-ba17-8699bed49dbe",
   "metadata": {},
   "outputs": [
    {
     "name": "stdout",
     "output_type": "stream",
     "text": [
      "[1, 2, 3]\n",
      "[4, 5, 6]\n",
      "[7, 8, 9]\n"
     ]
    }
   ],
   "source": [
    "#34. Split a list into chunks of size `n`.\n",
    "\n",
    "my_list = [1, 2, 3, 4, 5, \n",
    "\t\t6, 7, 8, 9] \n",
    "start = 0\n",
    "end = len(my_list) \n",
    "step = 3\n",
    "for i in range(start, end, step): \n",
    "\tx = i \n",
    "\tprint(my_list[x:x+step]) \n"
   ]
  },
  {
   "cell_type": "code",
   "execution_count": 14,
   "id": "9768f970-9586-4b66-b77e-8417cf06eb7c",
   "metadata": {},
   "outputs": [
    {
     "name": "stdout",
     "output_type": "stream",
     "text": [
      "Second largest element is: 45\n"
     ]
    }
   ],
   "source": [
    "#35. Find the second largest number in a list.\n",
    "# Python program to find largest number\n",
    "# in a list\n",
    "\n",
    "# List of numbers\n",
    "list1 = [10, 20, 20, 4, 45, 45, 45, 99, 99]\n",
    "\n",
    "# Removing duplicates from the list\n",
    "list2 = list(set(list1))\n",
    "\n",
    "# Sorting the list\n",
    "list2.sort()\n",
    "\n",
    "# Printing the second last element\n",
    "print(\"Second largest element is:\", list2[-2])\n"
   ]
  },
  {
   "cell_type": "code",
   "execution_count": 16,
   "id": "f4c2f8fa-3a02-4f68-ba31-c1c53b2e9b53",
   "metadata": {},
   "outputs": [
    {
     "data": {
      "text/plain": [
       "[1, 4, 9, 16, 25]"
      ]
     },
     "execution_count": 16,
     "metadata": {},
     "output_type": "execute_result"
    }
   ],
   "source": [
    "#36. Replace every element in a list with its square.\n",
    "l=[1,2,3,4,5]\n",
    "new_l=[i*i for i in l]\n",
    "l=new_l\n",
    "l"
   ]
  },
  {
   "cell_type": "code",
   "execution_count": 17,
   "id": "3007eb47-0207-49fb-aa97-958e5e925281",
   "metadata": {},
   "outputs": [
    {
     "name": "stdout",
     "output_type": "stream",
     "text": [
      "{0: 'Carrot', 1: 'Raddish', 2: 'Brinjal', 3: 'Potato'}\n"
     ]
    }
   ],
   "source": [
    "#37. Convert a list to a dictionary where list elements become keys and their indices become values\n",
    "\n",
    "vegetables = ['Carrot', 'Raddish', 'Brinjal', 'Potato']\n",
    "\n",
    "veg_dict = dict(enumerate(vegetables))\n",
    "print(veg_dict)\n"
   ]
  },
  {
   "cell_type": "code",
   "execution_count": 21,
   "id": "b60a2b89-c825-4f43-8708-32448fe3df2b",
   "metadata": {},
   "outputs": [
    {
     "name": "stdout",
     "output_type": "stream",
     "text": [
      "The original list is : [1, 4, 5, 6, 3]\n",
      "The shuffled list is : [5, 6, 3, 1, 4]\n"
     ]
    }
   ],
   "source": [
    "#38. Shuffle the elements of a list randomly.\n",
    "import random\n",
    "\n",
    "test_list = [1, 4, 5, 6, 3]\n",
    "\n",
    "print(\"The original list is : \" + str(test_list))\n",
    "\n",
    "# using random.shuffle() to shuffle a list\n",
    "random.shuffle(test_list)\n",
    "\n",
    "print(\"The shuffled list is : \" + str(test_list))\n"
   ]
  },
  {
   "cell_type": "code",
   "execution_count": 26,
   "id": "ce240899-f937-4a97-832a-117a821519d4",
   "metadata": {},
   "outputs": [
    {
     "name": "stdout",
     "output_type": "stream",
     "text": [
      "[1, 2, 6, 24, 120, 720, 5040, 40320, 362880, 3628800]\n"
     ]
    }
   ],
   "source": [
    "#39. Create a list of the first 10 factorial numbers.\n",
    "def factorial(n):\n",
    "    num=1\n",
    "    for i in range(1,n+1):\n",
    "        num*=i\n",
    "    return num\n",
    "\n",
    "factorial_nums=[factorial(i) for i in range(1,11)]\n",
    "print(factorial_nums)"
   ]
  },
  {
   "cell_type": "code",
   "execution_count": 27,
   "id": "eed7c106-65a0-4e6b-b1df-0fb970c0c046",
   "metadata": {},
   "outputs": [
    {
     "name": "stdout",
     "output_type": "stream",
     "text": [
      "True\n",
      "False\n"
     ]
    }
   ],
   "source": [
    "#40. Check if two lists have at least one element in common. \n",
    "# if two lists have at-least \n",
    "# one element common\n",
    "# using traversal of list\n",
    "\n",
    "def common_data(list1, list2):\n",
    "\tresult = False\n",
    "\n",
    "\t# traverse in the 1st list\n",
    "\tfor x in list1:\n",
    "\n",
    "\t\t# traverse in the 2nd list\n",
    "\t\tfor y in list2:\n",
    "\n",
    "\t\t\t# if one common\n",
    "\t\t\tif x == y:\n",
    "\t\t\t\tresult = True\n",
    "\t\t\t\treturn result \n",
    "\t\t\t\t\n",
    "\treturn result\n",
    "\t\n",
    "# driver code\n",
    "a = [1, 2, 3, 4, 5]\n",
    "b = [5, 6, 7, 8, 9]\n",
    "print(common_data(a, b))\n",
    "\n",
    "a = [1, 2, 3, 4, 5]\n",
    "b = [6, 7, 8, 9]\n",
    "print(common_data(a, b))\n"
   ]
  },
  {
   "cell_type": "code",
   "execution_count": 31,
   "id": "8789f91e-431e-479c-b182-cd867664f3c1",
   "metadata": {},
   "outputs": [
    {
     "data": {
      "text/plain": [
       "[]"
      ]
     },
     "execution_count": 31,
     "metadata": {},
     "output_type": "execute_result"
    }
   ],
   "source": [
    "#41. Remove all elements from a list.\n",
    "l=[1,2,3,4,5]\n",
    "l\n",
    "l.clear()\n",
    "l"
   ]
  },
  {
   "cell_type": "code",
   "execution_count": 32,
   "id": "a0910370-acfa-4f80-adaf-375f68eed86a",
   "metadata": {},
   "outputs": [
    {
     "name": "stdout",
     "output_type": "stream",
     "text": [
      "initial array [ 1  2 -3  4 -5 -6]\n",
      "New resulting array:  [1 2 0 4 0 0]\n"
     ]
    }
   ],
   "source": [
    "#42. Replace negative numbers in a list with 0.\n",
    "\n",
    "# Python code to demonstrate\n",
    "# to replace negative values with 0\n",
    "import numpy as np\n",
    "\n",
    "ini_array1 = np.array([1, 2, -3, 4, -5, -6])\n",
    "\n",
    "# printing initial arrays\n",
    "print(\"initial array\", ini_array1)\n",
    "\n",
    "# code to replace all negative value with 0\n",
    "result = np.where(ini_array1<0, 0, ini_array1)\n",
    "\n",
    "# printing result\n",
    "print(\"New resulting array: \", result)\n"
   ]
  },
  {
   "cell_type": "code",
   "execution_count": 37,
   "id": "b438e015-26aa-481b-b9f6-c0a633f2a234",
   "metadata": {},
   "outputs": [
    {
     "name": "stdout",
     "output_type": "stream",
     "text": [
      "The given string is\n",
      "Hello Everyone Welcome to python\n",
      "Converting them into list of words\n",
      "['Hello', 'Everyone', 'Welcome', 'to', 'python']\n"
     ]
    }
   ],
   "source": [
    "#43. Convert a string into a list of words.\n",
    "\n",
    "str1 = \"Hello Everyone Welcome to python\"\n",
    "\n",
    "print(\"The given string is\")\n",
    "print(str1)\n",
    "\n",
    "print(\"Converting them into list of words\")\n",
    "res = str1.split()\n",
    "print(res)"
   ]
  },
  {
   "cell_type": "code",
   "execution_count": 38,
   "id": "3d066a93-9d71-4a0a-8cd2-ad1545c212e1",
   "metadata": {},
   "outputs": [
    {
     "name": "stdout",
     "output_type": "stream",
     "text": [
      "ishan Bhaskarrao bhalerao\n"
     ]
    }
   ],
   "source": [
    "#44.Convert a list of words into a string.\n",
    "\n",
    "# Function to convert\n",
    "def listToString(s):\n",
    "\n",
    "\t# initialize an empty string\n",
    "\tstr1 = \" \"\n",
    "\n",
    "\t# return string\n",
    "\treturn (str1.join(s))\n",
    "\t\n",
    "\t\n",
    "# Driver code\n",
    "s = ['ishan', 'Bhaskarrao', 'bhalerao']\n",
    "print(listToString(s))\n"
   ]
  },
  {
   "cell_type": "code",
   "execution_count": 54,
   "id": "d1e7203d-c5de-49f1-a5a2-8ca5dfa19315",
   "metadata": {},
   "outputs": [
    {
     "name": "stdout",
     "output_type": "stream",
     "text": [
      "List of first 5 powers of 2 numbers is [1, 2, 4, 8, 16]\n"
     ]
    }
   ],
   "source": [
    "#45. Create a list of the first `n` powers of 2.\n",
    "\n",
    "n=5\n",
    "p=[2 ** i for i in range(n)]\n",
    "print(\"List of first\",n,\"powers of 2 numbers is\",p)"
   ]
  },
  {
   "cell_type": "code",
   "execution_count": 56,
   "id": "5a6b9fbe-52cf-40fd-a01c-1c175a15eb70",
   "metadata": {},
   "outputs": [
    {
     "name": "stdout",
     "output_type": "stream",
     "text": [
      "Longest string is: programming\n"
     ]
    }
   ],
   "source": [
    "#46. Find the longest string in a list of strings.\n",
    "l=[\"welcome\",\"to\",\"python\",\"programming\"]\n",
    "long_str=\" \"\n",
    "for i in l:\n",
    "    if(len(i)>len(long_str)):\n",
    "        long_str=i\n",
    "        \n",
    "print(\"Longest string is:\",long_str)"
   ]
  },
  {
   "cell_type": "code",
   "execution_count": 59,
   "id": "67216333-430e-4820-af2f-f1a0c41f02b5",
   "metadata": {},
   "outputs": [
    {
     "name": "stdout",
     "output_type": "stream",
     "text": [
      "shortest string is: to\n"
     ]
    }
   ],
   "source": [
    "#47. Find the shortest string in a list of strings.\n",
    "\n",
    "l=[\"welcome\",\"to\",\"python\",\"programming\"]\n",
    "short_str=l[0]\n",
    "for i in l:\n",
    "    if(len(i)<len(short_str)):\n",
    "        short_str=i\n",
    "        \n",
    "print(\"shortest string is:\",short_str)"
   ]
  },
  {
   "cell_type": "code",
   "execution_count": 60,
   "id": "942fca8d-ad8c-48e8-8497-b47a17fb7ed1",
   "metadata": {},
   "outputs": [
    {
     "name": "stdout",
     "output_type": "stream",
     "text": [
      "List of the first 5 triangular numbers: [1, 3, 6, 10, 15]\n"
     ]
    }
   ],
   "source": [
    "#48. Create a list of the first `n` triangular numbers.\n",
    "def triangular_numbers(n):\n",
    "    return [i * (i + 1) // 2 for i in range(1, n + 1)]\n",
    "\n",
    "# Specify the value of n\n",
    "n = 5\n",
    "\n",
    "# Create a list of the first n triangular numbers\n",
    "triangular_list = triangular_numbers(n)\n",
    "\n",
    "# Print the list of triangular numbers\n",
    "print(\"List of the first\", n, \"triangular numbers:\", triangular_list)"
   ]
  },
  {
   "cell_type": "code",
   "execution_count": 64,
   "id": "1ae40c9e-07b3-4a14-9b6f-e30ee98971e8",
   "metadata": {},
   "outputs": [
    {
     "name": "stdout",
     "output_type": "stream",
     "text": [
      "Main list contains the subsequence.\n"
     ]
    }
   ],
   "source": [
    "#49. Check if a list contains another list as a subsequence.\n",
    "def is_subsequence(subsequence, main_list):\n",
    "    subseq_index = 0  # Index for the subsequence elements\n",
    "    for element in main_list:\n",
    "        if element == subsequence[subseq_index]:\n",
    "            subseq_index += 1\n",
    "            if subseq_index == len(subsequence):\n",
    "                return True\n",
    "    return False\n",
    "\n",
    "main_list = [1, 2, 3, 4, 5, 6, 7, 8, 9, 10]\n",
    "subsequence = [3, 5, 8]\n",
    "\n",
    "if is_subsequence(subsequence, main_list):\n",
    "    print(\"Main list contains the subsequence.\")\n",
    "else:\n",
    "    print(\"Main list does not contain the subsequence.\")"
   ]
  },
  {
   "cell_type": "code",
   "execution_count": 65,
   "id": "8457c6b4-ddae-4642-9c95-0a3a8fa4fdbc",
   "metadata": {},
   "outputs": [
    {
     "name": "stdout",
     "output_type": "stream",
     "text": [
      "List after swapping elements: [1, 4, 3, 2, 5]\n"
     ]
    }
   ],
   "source": [
    "#50. Swap two elements in a list by their indices.\n",
    "\n",
    "my_list = [1, 2, 3, 4, 5]\n",
    "\n",
    "# Indices of elements to swap\n",
    "index1 = 1\n",
    "index2 = 3\n",
    "\n",
    "# Swap the elements at the specified indices\n",
    "temp = my_list[index1]\n",
    "my_list[index1] = my_list[index2]\n",
    "my_list[index2] = temp\n",
    "\n",
    "# Print the list after swapping\n",
    "print(\"List after swapping elements:\", my_list)"
   ]
  },
  {
   "cell_type": "markdown",
   "id": "7f6cddcd-7958-4199-9168-1ec08774481e",
   "metadata": {},
   "source": [
    "Examples based on Tuples"
   ]
  },
  {
   "cell_type": "code",
   "execution_count": 3,
   "id": "78615e1e-dedb-4916-878c-d7379f533640",
   "metadata": {},
   "outputs": [
    {
     "name": "stdout",
     "output_type": "stream",
     "text": [
      "(1, 2, 3, 4, 5)\n"
     ]
    },
    {
     "data": {
      "text/plain": [
       "tuple"
      ]
     },
     "execution_count": 3,
     "metadata": {},
     "output_type": "execute_result"
    }
   ],
   "source": [
    "#1. Create a tuple with integers from 1 to 5.\n",
    "t=(1,2,3,4,5)\n",
    "print(t)\n",
    "type(t)"
   ]
  },
  {
   "cell_type": "code",
   "execution_count": 5,
   "id": "cf05a324-294a-4828-88f1-6d8ef8ba4125",
   "metadata": {},
   "outputs": [
    {
     "data": {
      "text/plain": [
       "3"
      ]
     },
     "execution_count": 5,
     "metadata": {},
     "output_type": "execute_result"
    }
   ],
   "source": [
    "#2. Access the third element of a tuple.\n",
    "t=(1,2,3,4,5)\n",
    "t[2]"
   ]
  },
  {
   "cell_type": "code",
   "execution_count": 6,
   "id": "f898c701-1fcf-4c2a-aa4a-bbeaa0d1f5f3",
   "metadata": {},
   "outputs": [
    {
     "name": "stdout",
     "output_type": "stream",
     "text": [
      "No of elements in tuple are: 5\n"
     ]
    }
   ],
   "source": [
    "#3. Find the length of a tuple without using the `len()` function.\n",
    "t=(1,2,3,4,5)\n",
    "c=0\n",
    "for i in t:\n",
    "    c=c+1\n",
    "print(\"No of elements in tuple are:\",c)"
   ]
  },
  {
   "cell_type": "code",
   "execution_count": 7,
   "id": "6e77ded4-5880-4a13-9334-683c74ef5418",
   "metadata": {},
   "outputs": [
    {
     "data": {
      "text/plain": [
       "2"
      ]
     },
     "execution_count": 7,
     "metadata": {},
     "output_type": "execute_result"
    }
   ],
   "source": [
    "#4. Count the occurrences of an element in a tuple.\n",
    "t=(1,2,3,4,5,2,3)\n",
    "t.count(2)"
   ]
  },
  {
   "cell_type": "code",
   "execution_count": 8,
   "id": "9ee119dc-cdb3-4c0f-aa1d-ac45eadfd497",
   "metadata": {},
   "outputs": [
    {
     "data": {
      "text/plain": [
       "1"
      ]
     },
     "execution_count": 8,
     "metadata": {},
     "output_type": "execute_result"
    }
   ],
   "source": [
    "#5. Find the index of the first occurrence of an element in a tuple\n",
    "t=(1,2,3,4,5,2,3)\n",
    "t.index(2)"
   ]
  },
  {
   "cell_type": "code",
   "execution_count": 2,
   "id": "de247476-a1e8-4820-a404-55228be1a7e3",
   "metadata": {},
   "outputs": [
    {
     "name": "stdout",
     "output_type": "stream",
     "text": [
      "element is not found\n"
     ]
    }
   ],
   "source": [
    "#6. Check if an element exists in a tuple.\n",
    "t=(1,2,3,4,5,2,3)\n",
    "f=0\n",
    "n=7\n",
    "for i in t:\n",
    "    if t[i]==n:\n",
    "        f=1\n",
    "    else:\n",
    "        f=0\n",
    "        \n",
    "if f==1:\n",
    "    print(\"element is found\")\n",
    "else:\n",
    "    print(\"element is not found\")"
   ]
  },
  {
   "cell_type": "code",
   "execution_count": 4,
   "id": "e07f6bad-0b55-4e7d-bc18-e7608c339bd0",
   "metadata": {},
   "outputs": [
    {
     "data": {
      "text/plain": [
       "[1, 2, 3, 4, 5, 2, 3]"
      ]
     },
     "execution_count": 4,
     "metadata": {},
     "output_type": "execute_result"
    }
   ],
   "source": [
    "#7. convert a tuple into a list\n",
    "t=(1,2,3,4,5,2,3)\n",
    "l=list(t)\n",
    "l"
   ]
  },
  {
   "cell_type": "code",
   "execution_count": 5,
   "id": "2e9625a2-9103-40e9-9636-fadb4463f2d1",
   "metadata": {},
   "outputs": [
    {
     "data": {
      "text/plain": [
       "(1, 2, 3, 4, 5, 2, 3)"
      ]
     },
     "execution_count": 5,
     "metadata": {},
     "output_type": "execute_result"
    }
   ],
   "source": [
    "#8. convert a list to a tuple\n",
    "l=[1,2,3,4,5,2,3]\n",
    "t=tuple(l)\n",
    "t"
   ]
  },
  {
   "cell_type": "code",
   "execution_count": 6,
   "id": "6b87e91a-8713-4875-910c-384d1034f0e6",
   "metadata": {},
   "outputs": [
    {
     "name": "stdout",
     "output_type": "stream",
     "text": [
      "MNNIT Allahabad\n",
      "5000\n",
      "Engineering\n"
     ]
    }
   ],
   "source": [
    "#9. Unpack the elements of a tuple into variables.\n",
    "# Program to understand about \n",
    "# packing and unpacking in Python\n",
    "\n",
    "# this lines PACKS values\n",
    "# into variable a\n",
    "a = (\"MNNIT Allahabad\", 5000, \"Engineering\") \n",
    "\n",
    "# this lines UNPACKS values\n",
    "# of variable a\n",
    "(college, student, type_ofcollege) = a \n",
    "\n",
    "# print college name\n",
    "print(college)\n",
    "\n",
    "# print no of student\n",
    "print(student)\n",
    "\n",
    "# print type of college\n",
    "print(type_ofcollege)\n"
   ]
  },
  {
   "cell_type": "code",
   "execution_count": 13,
   "id": "afb0c1b6-8cfe-4da0-a6fd-a79fad6c8794",
   "metadata": {},
   "outputs": [
    {
     "data": {
      "text/plain": [
       "(2, 4, 6, 8, 10)"
      ]
     },
     "execution_count": 13,
     "metadata": {},
     "output_type": "execute_result"
    }
   ],
   "source": [
    "#10.Create a tuple of even numbers from 1 to 10.\n",
    "l=[i for i in range(1,11) if i%2==0]\n",
    "t1=tuple(l)\n",
    "t1"
   ]
  },
  {
   "cell_type": "code",
   "execution_count": 14,
   "id": "6f3069de-0c9b-4788-bef1-f47efb6bdae6",
   "metadata": {},
   "outputs": [
    {
     "data": {
      "text/plain": [
       "(1, 3, 5, 7, 9)"
      ]
     },
     "execution_count": 14,
     "metadata": {},
     "output_type": "execute_result"
    }
   ],
   "source": [
    "#11. Create a tuple of odd numbers from 1 to 10.\n",
    "l=[i for i in range(1,11) if i%2!=0]\n",
    "t1=tuple(l)\n",
    "t1"
   ]
  },
  {
   "cell_type": "code",
   "execution_count": 15,
   "id": "f3986cb0-8fc0-4610-ac4a-f114873fdd3f",
   "metadata": {},
   "outputs": [
    {
     "data": {
      "text/plain": [
       "(1, 2, 3, 4, 5, 6, 7, 8)"
      ]
     },
     "execution_count": 15,
     "metadata": {},
     "output_type": "execute_result"
    }
   ],
   "source": [
    "#12. Concatenate two tuples\n",
    "t1=(1,2,3,4)\n",
    "t2=(5,6,7,8)\n",
    "t3=t1+t2\n",
    "t3"
   ]
  },
  {
   "cell_type": "code",
   "execution_count": 16,
   "id": "2522b562-7775-45be-bd99-590d62afeb9a",
   "metadata": {},
   "outputs": [
    {
     "data": {
      "text/plain": [
       "(1, 2, 3, 4, 1, 2, 3, 4)"
      ]
     },
     "execution_count": 16,
     "metadata": {},
     "output_type": "execute_result"
    }
   ],
   "source": [
    "#13. Repeat a tuple three times.\n",
    "t1=(1,2,3,4)*2\n",
    "t1"
   ]
  },
  {
   "cell_type": "code",
   "execution_count": 5,
   "id": "397e6c9e-604a-445c-8574-a5dc4ea186e0",
   "metadata": {},
   "outputs": [
    {
     "name": "stdout",
     "output_type": "stream",
     "text": [
      "tuple is empty\n",
      "tuple is not empty\n"
     ]
    }
   ],
   "source": [
    "#14. Check if a tuple is empty.\n",
    "t=()\n",
    "t1=(1,2,3,4)\n",
    "if not t:\n",
    "    print(\"tuple is empty\")\n",
    "else:\n",
    "    print(\"tuple is not empty\")\n",
    "    \n",
    "if not 1:\n",
    "    print(\"tuple is empty\")\n",
    "else:\n",
    "    print(\"tuple is not empty\")\n",
    "    \n",
    "    "
   ]
  },
  {
   "cell_type": "code",
   "execution_count": 6,
   "id": "0da70186-e82d-4cc5-8bc9-b2bffa2e0a9d",
   "metadata": {},
   "outputs": [
    {
     "data": {
      "text/plain": [
       "((1, 2, 3), (2.5, 2.1, 5.6), (True, False, False))"
      ]
     },
     "execution_count": 6,
     "metadata": {},
     "output_type": "execute_result"
    }
   ],
   "source": [
    "#15. Create a nested tuple.\n",
    "t=((1,2,3),(2.5,2.1,5.6),(True,False,False))\n",
    "t"
   ]
  },
  {
   "cell_type": "code",
   "execution_count": 8,
   "id": "47ca47bf-7f4c-4b25-9d39-664e44e39a34",
   "metadata": {},
   "outputs": [
    {
     "data": {
      "text/plain": [
       "1"
      ]
     },
     "execution_count": 8,
     "metadata": {},
     "output_type": "execute_result"
    }
   ],
   "source": [
    "#16. Access the first element of a nested tuple.\n",
    "t=((1,2,3),(2.5,2.1,5.6),(True,False,False))\n",
    "t[0][0]"
   ]
  },
  {
   "cell_type": "code",
   "execution_count": 9,
   "id": "df2654fd-83fa-4365-bc61-fba58dd8c712",
   "metadata": {},
   "outputs": [
    {
     "data": {
      "text/plain": [
       "(10,)"
      ]
     },
     "execution_count": 9,
     "metadata": {},
     "output_type": "execute_result"
    }
   ],
   "source": [
    "# 17. Create a tuple with a single element.\n",
    "t=(10,)\n",
    "t"
   ]
  },
  {
   "cell_type": "code",
   "execution_count": 12,
   "id": "40d96d8c-4a35-4caa-9069-1b903c37a203",
   "metadata": {},
   "outputs": [
    {
     "name": "stdout",
     "output_type": "stream",
     "text": [
      "Tuple is greater or not= False\n",
      "Tuple is smaller or not= False\n",
      "Tuple is equal or not= True\n"
     ]
    }
   ],
   "source": [
    "#18. Compare two tuples.\n",
    "t1=(1,2,3,4)\n",
    "t2=(1,2,3,4)\n",
    "print(\"Tuple is greater or not=\",t1>t2)\n",
    "print(\"Tuple is smaller or not=\",t1<t2)\n",
    "print(\"Tuple is equal or not=\",t1==t2)"
   ]
  },
  {
   "cell_type": "code",
   "execution_count": 14,
   "id": "b57deb1e-1028-41f5-9701-2ef467488502",
   "metadata": {},
   "outputs": [
    {
     "ename": "NameError",
     "evalue": "name 't' is not defined",
     "output_type": "error",
     "traceback": [
      "\u001b[0;31m---------------------------------------------------------------------------\u001b[0m",
      "\u001b[0;31mNameError\u001b[0m                                 Traceback (most recent call last)",
      "Cell \u001b[0;32mIn[14], line 5\u001b[0m\n\u001b[1;32m      3\u001b[0m t\n\u001b[1;32m      4\u001b[0m \u001b[38;5;28;01mdel\u001b[39;00m t\n\u001b[0;32m----> 5\u001b[0m \u001b[43mt\u001b[49m\n",
      "\u001b[0;31mNameError\u001b[0m: name 't' is not defined"
     ]
    }
   ],
   "source": [
    "#19. Delete a tuple\n",
    "t=(1,2,3,4)\n",
    "t\n",
    "del t\n",
    "t"
   ]
  },
  {
   "cell_type": "code",
   "execution_count": 15,
   "id": "36360404-fb07-4de8-8533-60a58ae71323",
   "metadata": {},
   "outputs": [
    {
     "data": {
      "text/plain": [
       "(5, 6, 9.6, 3.6, 2.1, (2+3j), True)"
      ]
     },
     "execution_count": 15,
     "metadata": {},
     "output_type": "execute_result"
    }
   ],
   "source": [
    "# 20. Slice a tuple.\n",
    "t=(1,2,3,4,5,6,9.6,3.6,2.1,2+3j,True,\"pwskills\")\n",
    "t[4:11]"
   ]
  },
  {
   "cell_type": "code",
   "execution_count": 16,
   "id": "b681879a-bd0f-428d-9b0f-b3070ebcfb14",
   "metadata": {},
   "outputs": [
    {
     "name": "stdout",
     "output_type": "stream",
     "text": [
      "Max value is: 100\n"
     ]
    }
   ],
   "source": [
    "#21. Find the maximum value in a tuple.\n",
    "t=(10,20,50,30,-2,100)\n",
    "print(\"Max value is:\",max(t))"
   ]
  },
  {
   "cell_type": "code",
   "execution_count": 17,
   "id": "2d340f81-b8f1-4988-8558-4fa784198481",
   "metadata": {},
   "outputs": [
    {
     "name": "stdout",
     "output_type": "stream",
     "text": [
      "Min value is: -2\n"
     ]
    }
   ],
   "source": [
    "#22. Find the minimum value in a tuple.\n",
    "t=(10,20,50,30,-2,100)\n",
    "print(\"Min value is:\",min(t))"
   ]
  },
  {
   "cell_type": "code",
   "execution_count": 18,
   "id": "47f3a85d-8aa2-4016-960e-98c085c319c6",
   "metadata": {},
   "outputs": [
    {
     "name": "stdout",
     "output_type": "stream",
     "text": [
      "No of characters in a tuple is: ('T', 'h', 'i', 's', ' ', 'i', 's', ' ', 's', 't', 'r', 'i', 'n', 'g')\n"
     ]
    }
   ],
   "source": [
    "#23. Convert a string to a tuple of characters.\n",
    "s=\"This is string\"\n",
    "no_of_char=tuple(s)\n",
    "print(\"No of characters in a tuple is:\",no_of_char)"
   ]
  },
  {
   "cell_type": "code",
   "execution_count": 23,
   "id": "97631edf-349d-4be9-bfda-5a8916533ab9",
   "metadata": {},
   "outputs": [
    {
     "name": "stdout",
     "output_type": "stream",
     "text": [
      "string is: Hi ishan\n"
     ]
    }
   ],
   "source": [
    "# 24. Convert a tuple of characters to a string.\n",
    "t=('H','i',' ','i','s','h','a','n')\n",
    "s=\"\".join(t)\n",
    "print(\"string is:\",s)"
   ]
  },
  {
   "cell_type": "code",
   "execution_count": 24,
   "id": "e25e4923-4a5e-4f4b-934b-3e16529d3b95",
   "metadata": {},
   "outputs": [
    {
     "data": {
      "text/plain": [
       "(1, 2, 3, 4, 5, 6, 9.6, 3.6, 2.1, (2+3j), True, 'pwskills')"
      ]
     },
     "execution_count": 24,
     "metadata": {},
     "output_type": "execute_result"
    }
   ],
   "source": [
    "#25. Create a tuple from multiple data types.\n",
    "t=(1,2,3,4,5,6,9.6,3.6,2.1,2+3j,True,\"pwskills\")\n",
    "t"
   ]
  },
  {
   "cell_type": "code",
   "execution_count": 26,
   "id": "e0551e6d-5754-42a6-b5a8-a8bc3cf9771d",
   "metadata": {},
   "outputs": [
    {
     "name": "stdout",
     "output_type": "stream",
     "text": [
      "Tuple is equal or not= False\n",
      "Tuple is equal or not= True\n"
     ]
    }
   ],
   "source": [
    "#26. Check if two tuples are identical.\n",
    "t1=(1,2,3,4)\n",
    "t2=(3,4,5,6)\n",
    "t3=(1,2,3,4)\n",
    "print(\"Tuple is equal or not=\",t1==t2)\n",
    "print(\"Tuple is equal or not=\",t1==t3)"
   ]
  },
  {
   "cell_type": "code",
   "execution_count": 1,
   "id": "d4f8bfd8-6a6b-4e72-8ecd-c2c9e66ac2a2",
   "metadata": {},
   "outputs": [
    {
     "name": "stdout",
     "output_type": "stream",
     "text": [
      "After sorting: [-9, 2, 12, 43, 54, 66]\n"
     ]
    }
   ],
   "source": [
    "#27. Sort the elements of a tuple.\n",
    "t=(12,54,2,66,43,-9)\n",
    "print(\"After sorting:\",sorted(t))"
   ]
  },
  {
   "cell_type": "code",
   "execution_count": 3,
   "id": "0c40f3d9-669d-4bbd-a972-978a8b3c512f",
   "metadata": {},
   "outputs": [
    {
     "name": "stdout",
     "output_type": "stream",
     "text": [
      "print tuple of strings: ('1', '2', '3', '4', '5')\n"
     ]
    }
   ],
   "source": [
    "#28.Convert a tuple of integers to a tuple of strings.\n",
    "t=(1,2,3,4,5)\n",
    "s=tuple(str(i) for i in t)\n",
    "print(\"print tuple of strings:\",s)\n"
   ]
  },
  {
   "cell_type": "code",
   "execution_count": 4,
   "id": "8900a521-3ce7-4730-89a6-f0686a03401c",
   "metadata": {},
   "outputs": [
    {
     "name": "stdout",
     "output_type": "stream",
     "text": [
      "print tuple of integers: (1, 2, 3, 4, 5)\n"
     ]
    }
   ],
   "source": [
    "#29. Convert a tuple of strings to a tuple of integers.\n",
    "s=(\"1\",\"2\",\"3\",\"4\",\"5\")\n",
    "t=tuple(int(i) for i in s)\n",
    "print(\"print tuple of integers:\",t)"
   ]
  },
  {
   "cell_type": "code",
   "execution_count": 5,
   "id": "d2da9398-d2b5-476d-8722-db88359d60a1",
   "metadata": {},
   "outputs": [
    {
     "name": "stdout",
     "output_type": "stream",
     "text": [
      "After merging tuple is: (1, 2, 3, 4, 5, 6)\n"
     ]
    }
   ],
   "source": [
    "#30. Merge two tuples.\n",
    "t1=(1,2,3)\n",
    "t2=(4,5,6)\n",
    "t3=t1+t2\n",
    "print(\"After merging tuple is:\",t3)"
   ]
  },
  {
   "cell_type": "code",
   "execution_count": 6,
   "id": "560481ec-5c0b-4541-9b64-9f6de4893dcb",
   "metadata": {},
   "outputs": [
    {
     "name": "stdout",
     "output_type": "stream",
     "text": [
      "Flattened tuple: (1, 2, 3, 4, 5, 6, 7, 8)\n"
     ]
    }
   ],
   "source": [
    "#31. Flatten a nested tuple.\n",
    "def flatten_tuple(nested_tuple):\n",
    "    flattened = []\n",
    "    for item in nested_tuple:\n",
    "        if isinstance(item, tuple):\n",
    "            flattened.extend(flatten_tuple(item))\n",
    "        else:\n",
    "            flattened.append(item)\n",
    "    return flattened\n",
    "\n",
    "# Step 1: Create a nested tuple\n",
    "nested_tuple = ((1, 2), (3, 4, 5), (6, (7, 8)))\n",
    "\n",
    "# Step 2: Flatten the nested tuple\n",
    "flattened_tuple = tuple(flatten_tuple(nested_tuple))\n",
    "\n",
    "# Step 3: Print the flattened tuple\n",
    "print(\"Flattened tuple:\", flattened_tuple)"
   ]
  },
  {
   "cell_type": "code",
   "execution_count": 7,
   "id": "772311f5-a57a-4057-96fd-b8c63c901933",
   "metadata": {},
   "outputs": [
    {
     "name": "stdout",
     "output_type": "stream",
     "text": [
      "Tuple of the first 5 prime numbers: (2, 3, 5, 7, 11)\n"
     ]
    }
   ],
   "source": [
    "# 32. Create a tuple of the first 5 prime numbers.\n",
    "def is_prime(num):\n",
    "    if num <= 1:\n",
    "        return False\n",
    "    for i in range(2, int(num ** 0.5) + 1):\n",
    "        if num % i == 0:\n",
    "            return False\n",
    "    return True\n",
    "\n",
    "# Generate the first 5 prime numbers\n",
    "prime_numbers_list = [num for num in range(2, 100) if is_prime(num)][:5]\n",
    "\n",
    "# Convert the list to a tuple\n",
    "prime_numbers_tuple = tuple(prime_numbers_list)\n",
    "\n",
    "# Print the tuple of prime numbers\n",
    "print(\"Tuple of the first 5 prime numbers:\", prime_numbers_tuple)"
   ]
  },
  {
   "cell_type": "code",
   "execution_count": 8,
   "id": "0dc2e703-8925-45df-ac7a-40ce7265412a",
   "metadata": {},
   "outputs": [
    {
     "name": "stdout",
     "output_type": "stream",
     "text": [
      "palindrome_tuple is a palindrome: True\n",
      "non_palindrome_tuple is a palindrome: False\n"
     ]
    }
   ],
   "source": [
    "#33. Check if a tuple is a palindrome.\n",
    "def is_palindrome(tup):\n",
    "    return tup == tup[::-1]\n",
    "\n",
    "# Create tuples for testing\n",
    "palindrome_tuple = (1, 2, 3, 2, 1)\n",
    "non_palindrome_tuple = (1, 2, 3, 4, 5)\n",
    "\n",
    "# Check if the tuples are palindromes\n",
    "is_palindrome1 = is_palindrome(palindrome_tuple)\n",
    "is_palindrome2 = is_palindrome(non_palindrome_tuple)\n",
    "\n",
    "# Print the results\n",
    "print(\"palindrome_tuple is a palindrome:\", is_palindrome1)\n",
    "print(\"non_palindrome_tuple is a palindrome:\", is_palindrome2)\n"
   ]
  },
  {
   "cell_type": "code",
   "execution_count": 9,
   "id": "a629224a-4cec-4b51-a362-2777fd9d5f87",
   "metadata": {},
   "outputs": [
    {
     "name": "stdout",
     "output_type": "stream",
     "text": [
      "Tuple of squares: (1, 4, 9, 16, 25)\n"
     ]
    }
   ],
   "source": [
    "# 34. Create a tuple of squares of numbers from 1 to 5.\n",
    "squares_tuple = tuple(x ** 2 for x in range(1, 6))\n",
    "print(\"Tuple of squares:\", squares_tuple)\n"
   ]
  },
  {
   "cell_type": "code",
   "execution_count": 10,
   "id": "474a7598-eb3f-43d2-97ca-675f00068383",
   "metadata": {},
   "outputs": [
    {
     "name": "stdout",
     "output_type": "stream",
     "text": [
      "Filtered tuple: (1, 3, 5, 7, 9)\n"
     ]
    }
   ],
   "source": [
    "#35. Filter out all even numbers from a tuple.\n",
    "original_tuple = (1, 2, 3, 4, 5, 6, 7, 8, 9, 10)\n",
    "\n",
    "# Filter out even numbers using a list comprehension\n",
    "filtered_tuple = tuple(num for num in original_tuple if num % 2 != 0)\n",
    "\n",
    "# Print the filtered tuple\n",
    "print(\"Filtered tuple:\", filtered_tuple)"
   ]
  },
  {
   "cell_type": "code",
   "execution_count": 11,
   "id": "0c1295a0-59d6-4f53-874d-b18f7aefcb44",
   "metadata": {},
   "outputs": [
    {
     "name": "stdout",
     "output_type": "stream",
     "text": [
      "Doubled tuple: (2, 4, 6, 8, 10)\n"
     ]
    }
   ],
   "source": [
    "#36.Create a tuple\n",
    "original_tuple = (1, 2, 3, 4, 5)\n",
    "\n",
    "# Multiply all elements by 2 using a list comprehension and convert to a tuple\n",
    "doubled_tuple = tuple(num * 2 for num in original_tuple)\n",
    "\n",
    "# Print the doubled tuple\n",
    "print(\"Doubled tuple:\", doubled_tuple)"
   ]
  },
  {
   "cell_type": "code",
   "execution_count": 12,
   "id": "4f22dfb9-279d-4e18-93b0-0bbcf6b5c296",
   "metadata": {},
   "outputs": [
    {
     "data": {
      "text/plain": [
       "(46, 50, 80, 95, 39, 46, 84, 14, 87)"
      ]
     },
     "execution_count": 12,
     "metadata": {},
     "output_type": "execute_result"
    }
   ],
   "source": [
    "#37. Create a tuple of random numbers.\n",
    "import random\n",
    "random_tuple=tuple(random.randint(1,100) for _ in range(1,10))\n",
    "random_tuple"
   ]
  },
  {
   "cell_type": "code",
   "execution_count": 13,
   "id": "1ccbacbc-31e6-4d62-ba8c-67040517a0b8",
   "metadata": {},
   "outputs": [
    {
     "name": "stdout",
     "output_type": "stream",
     "text": [
      "sorted_tuple is sorted: True\n",
      "unsorted_tuple is sorted: False\n"
     ]
    }
   ],
   "source": [
    "#38. Check if a tuple is sorted.\n",
    "def is_sorted(tup):\n",
    "    for i in range(len(tup) - 1):\n",
    "        if tup[i] > tup[i + 1]:\n",
    "            return False\n",
    "    return True\n",
    "\n",
    "# Create tuples for testing\n",
    "sorted_tuple = (1, 2, 3, 4, 5)\n",
    "unsorted_tuple = (5, 3, 1, 4, 2)\n",
    "\n",
    "# Check if the tuples are sorted\n",
    "is_sorted1 = is_sorted(sorted_tuple)\n",
    "is_sorted2 = is_sorted(unsorted_tuple)\n",
    "\n",
    "# Print the results\n",
    "print(\"sorted_tuple is sorted:\", is_sorted1)\n",
    "print(\"unsorted_tuple is sorted:\", is_sorted2)"
   ]
  },
  {
   "cell_type": "code",
   "execution_count": 14,
   "id": "234409b9-7ca9-4e96-bc37-f63650c250d3",
   "metadata": {},
   "outputs": [
    {
     "name": "stdout",
     "output_type": "stream",
     "text": [
      "(3, 4, 5, 1, 2)\n"
     ]
    }
   ],
   "source": [
    "#39.Rotate a tuple to the left by n positions.\n",
    "def rotate_tuple_left(tup, n):\n",
    "    n = n % len(tup)  # Ensure n is within the range of tuple length\n",
    "    rotated_tuple = tup[n:] + tup[:n]  # Rotate the tuple\n",
    "    return rotated_tuple\n",
    "\n",
    "# Example tuple\n",
    "my_tuple = (1, 2, 3, 4, 5)\n",
    "n_positions = 2\n",
    "result = rotate_tuple_left(my_tuple, n_positions)\n",
    "print(result)"
   ]
  },
  {
   "cell_type": "code",
   "execution_count": 15,
   "id": "007178ec-1b90-4697-9281-6e05522d3b14",
   "metadata": {},
   "outputs": [
    {
     "name": "stdout",
     "output_type": "stream",
     "text": [
      "(4, 5, 1, 2, 3)\n"
     ]
    }
   ],
   "source": [
    "#40. Rotate a tuple to the right by n positions.\n",
    "def rotate_tuple_right(tup, n):\n",
    "    n = n % len(tup)  # Ensure n is within the range of tuple length\n",
    "    rotated_tuple = tup[-n:] + tup[:-n]  # Rotate the tuple\n",
    "    return rotated_tuple\n",
    "\n",
    "# Example tuple\n",
    "my_tuple = (1, 2, 3, 4, 5)\n",
    "n_positions = 2\n",
    "result = rotate_tuple_right(my_tuple, n_positions)\n",
    "print(result)"
   ]
  },
  {
   "cell_type": "code",
   "execution_count": 16,
   "id": "40da6be8-6e00-4d50-aaba-5b9927f44b42",
   "metadata": {},
   "outputs": [
    {
     "name": "stdout",
     "output_type": "stream",
     "text": [
      "(0, 1, 1, 2, 3)\n"
     ]
    }
   ],
   "source": [
    "#41. Create a tuple of the first 5 Fibonacci numbers.\n",
    "def generate_fibonacci(n):\n",
    "    fibonacci = [0, 1]  # Initialize the list with the first two Fibonacci numbers\n",
    "    while len(fibonacci) < n:  # Continue generating Fibonacci numbers until the list has n elements\n",
    "        next_number = fibonacci[-1] + fibonacci[-2]  # Calculate the next Fibonacci number\n",
    "        fibonacci.append(next_number)  # Add the next Fibonacci number to the list\n",
    "    return tuple(fibonacci)  # Convert the list to a tuple and return it\n",
    "\n",
    "# Call the generate_fibonacci function to create a tuple of the first 5 Fibonacci numbers\n",
    "fibonacci_tuple = generate_fibonacci(5)\n",
    "\n",
    "# Print the resulting tuple\n",
    "print(fibonacci_tuple)"
   ]
  },
  {
   "cell_type": "code",
   "execution_count": 17,
   "id": "49eb77af-ec5a-47b3-b9f8-501640a40942",
   "metadata": {},
   "outputs": [
    {
     "name": "stdin",
     "output_type": "stream",
     "text": [
      "Enter elements separated by commas:  h,e,l,l,o\n"
     ]
    },
    {
     "name": "stdout",
     "output_type": "stream",
     "text": [
      "User input tuple: ('h', 'e', 'l', 'l', 'o')\n"
     ]
    }
   ],
   "source": [
    "#42. Create a tuple from user input.\n",
    "input_str = input(\"Enter elements separated by commas: \")\n",
    "\n",
    "# Splitting the input string into a list of strings\n",
    "input_list = input_str.split(',')\n",
    "\n",
    "# Converting the list of strings to a tuple\n",
    "user_tuple = tuple(input_list)\n",
    "\n",
    "# Printing the created tuple\n",
    "print(\"User input tuple:\", user_tuple)"
   ]
  },
  {
   "cell_type": "code",
   "execution_count": 18,
   "id": "0c4fc304-8fa4-46e2-ac82-d93a7b631979",
   "metadata": {},
   "outputs": [
    {
     "name": "stdout",
     "output_type": "stream",
     "text": [
      "Swapped tuple: (1, 4, 3, 2, 5)\n"
     ]
    }
   ],
   "source": [
    "#43. Swap two elements in a tuple.\n",
    "my_tuple = (1, 2, 3, 4, 5)\n",
    "\n",
    "# Swap elements at indices 1 and 3\n",
    "index1 = 1\n",
    "index2 = 3\n",
    "swapped_tuple = tuple(\n",
    "    my_tuple[i] if i not in (index1, index2) else\n",
    "    my_tuple[index2] if i == index1 else\n",
    "    my_tuple[index1]\n",
    "    for i in range(len(my_tuple))\n",
    ")\n",
    "\n",
    "# Print the swapped tuple\n",
    "print(\"Swapped tuple:\", swapped_tuple)"
   ]
  },
  {
   "cell_type": "code",
   "execution_count": 19,
   "id": "f0698558-dbb1-44b3-b76d-0d3fdaea666a",
   "metadata": {},
   "outputs": [
    {
     "name": "stdout",
     "output_type": "stream",
     "text": [
      "Reversed tuple: (5, 4, 3, 2, 1)\n"
     ]
    }
   ],
   "source": [
    "#44. Reverse the elements of a tuple.\n",
    "my_tuple = (1, 2, 3, 4, 5)\n",
    "\n",
    "# Reverse the elements using slicing\n",
    "reversed_tuple = my_tuple[::-1]\n",
    "\n",
    "# Print the reversed tuple\n",
    "print(\"Reversed tuple:\", reversed_tuple)"
   ]
  },
  {
   "cell_type": "code",
   "execution_count": 20,
   "id": "bad9dd5b-cd95-43e9-96c3-4ff88670f9a2",
   "metadata": {},
   "outputs": [
    {
     "name": "stdout",
     "output_type": "stream",
     "text": [
      "Tuple of the first 5 powers of 2: (1, 2, 4, 8, 16)\n"
     ]
    }
   ],
   "source": [
    "#45. Create a tuple of the first `n` powers of 2.\n",
    "n = 5\n",
    "\n",
    "# Create a tuple of the first n powers of 2 using a list comprehension\n",
    "powers_of_2_tuple = tuple(2 ** i for i in range(n))\n",
    "\n",
    "# Print the tuple of powers of 2\n",
    "print(\"Tuple of the first\", n, \"powers of 2:\", powers_of_2_tuple)"
   ]
  },
  {
   "cell_type": "code",
   "execution_count": 21,
   "id": "4582c8c1-b593-4274-a429-7df931c65fe9",
   "metadata": {},
   "outputs": [
    {
     "name": "stdout",
     "output_type": "stream",
     "text": [
      "Longest string: watermelon\n"
     ]
    }
   ],
   "source": [
    "#46. Find the longest string in a tuple of strings.\n",
    "string_tuple = (\"apple\", \"banana\", \"grape\", \"kiwi\", \"watermelon\")\n",
    "\n",
    "# Find the longest string in the tuple\n",
    "longest_string = max(string_tuple, key=len)\n",
    "\n",
    "# Print the longest string\n",
    "print(\"Longest string:\", longest_string)"
   ]
  },
  {
   "cell_type": "code",
   "execution_count": 22,
   "id": "8c251545-1476-43e6-80f4-9c56a4b0f9f9",
   "metadata": {},
   "outputs": [
    {
     "name": "stdout",
     "output_type": "stream",
     "text": [
      "Shortest string: kiwi\n"
     ]
    }
   ],
   "source": [
    "#47. Find the shortest string in a tuple of strings.\n",
    "string_tuple = (\"apple\", \"banana\", \"grape\", \"kiwi\", \"watermelon\")\n",
    "\n",
    "# Find the shortest string in the tuple\n",
    "shortest_string = min(string_tuple, key=len)\n",
    "\n",
    "# Print the shortest string\n",
    "print(\"Shortest string:\", shortest_string)"
   ]
  },
  {
   "cell_type": "code",
   "execution_count": 23,
   "id": "d86db457-54f8-405b-9bad-1b622a506560",
   "metadata": {},
   "outputs": [
    {
     "name": "stdout",
     "output_type": "stream",
     "text": [
      "Tuple of the first 5 triangular numbers: (1, 3, 6, 10, 15)\n"
     ]
    }
   ],
   "source": [
    "#48. Create a tuple of the first n triangular numbers.\n",
    "n = 5\n",
    "\n",
    "# Create a tuple of the first n triangular numbers using a list comprehension\n",
    "triangular_numbers_tuple = tuple((i * (i + 1)) // 2 for i in range(1, n + 1))\n",
    "\n",
    "# Print the tuple of triangular numbers\n",
    "print(\"Tuple of the first\", n, \"triangular numbers:\", triangular_numbers_tuple)"
   ]
  },
  {
   "cell_type": "code",
   "execution_count": 24,
   "id": "e359926c-9258-4553-81c5-66337a3eeed7",
   "metadata": {},
   "outputs": [
    {
     "name": "stdout",
     "output_type": "stream",
     "text": [
      "Main tuple contains subsequence tuple: True\n"
     ]
    }
   ],
   "source": [
    "#49. Check if a tuple contains another tuple as a subsequence\n",
    "def contains_subsequence(main_tuple, sub_tuple):\n",
    "    sub_length = len(sub_tuple)\n",
    "    for i in range(len(main_tuple) - sub_length + 1):\n",
    "        if main_tuple[i:i+sub_length] == sub_tuple:\n",
    "            return True\n",
    "    return False\n",
    "\n",
    "# Main tuple\n",
    "main_tuple = (1, 2, 3, 4, 5, 6, 7, 8, 9)\n",
    "\n",
    "# Subsequence tuple\n",
    "sub_tuple = (3, 4, 5)\n",
    "\n",
    "# Check if the main tuple contains the subsequence tuple\n",
    "contains_subseq = contains_subsequence(main_tuple, sub_tuple)\n",
    "\n",
    "# Print the result\n",
    "print(\"Main tuple contains subsequence tuple:\", contains_subseq)"
   ]
  },
  {
   "cell_type": "code",
   "execution_count": 25,
   "id": "4691ad34-9e43-4569-95d1-44ac3e36cb51",
   "metadata": {},
   "outputs": [
    {
     "name": "stdout",
     "output_type": "stream",
     "text": [
      "Tuple of alternating 1s and 0s: (0, 1, 0, 1, 0, 1, 0, 1, 0, 1)\n"
     ]
    }
   ],
   "source": [
    "#50. Create a tuple of alternating 1s and 0s of length n.\n",
    "n = 10\n",
    "\n",
    "# Create a tuple of alternating 1s and 0s using a list comprehension\n",
    "alternating_tuple = tuple(i % 2 for i in range(n))\n",
    "\n",
    "# Print the tuple of alternating 1s and 0s\n",
    "print(\"Tuple of alternating 1s and 0s:\", alternating_tuple)"
   ]
  },
  {
   "cell_type": "markdown",
   "id": "288cbe7b-d6ac-45df-98d0-176903aa8505",
   "metadata": {},
   "source": [
    "set based problems"
   ]
  },
  {
   "cell_type": "code",
   "execution_count": 1,
   "id": "5929e7bb-a62c-4256-bf4f-8c1662800ded",
   "metadata": {},
   "outputs": [
    {
     "data": {
      "text/plain": [
       "{1, 2, 3, 4, 5}"
      ]
     },
     "execution_count": 1,
     "metadata": {},
     "output_type": "execute_result"
    }
   ],
   "source": [
    "#1. Create a set with integers from 1 to 5.\n",
    "s={1,2,3,4,5}\n",
    "s"
   ]
  },
  {
   "cell_type": "code",
   "execution_count": 2,
   "id": "7bf1e0b9-5530-40e1-a245-f946a5f6e86c",
   "metadata": {},
   "outputs": [
    {
     "data": {
      "text/plain": [
       "set"
      ]
     },
     "execution_count": 2,
     "metadata": {},
     "output_type": "execute_result"
    }
   ],
   "source": [
    "type(s)"
   ]
  },
  {
   "cell_type": "code",
   "execution_count": 3,
   "id": "9974428b-a632-4d3e-a245-f914fa2c90ff",
   "metadata": {},
   "outputs": [
    {
     "data": {
      "text/plain": [
       "{1, 2, 3, 4, 5, 6}"
      ]
     },
     "execution_count": 3,
     "metadata": {},
     "output_type": "execute_result"
    }
   ],
   "source": [
    "#2. Add an element to a set.\n",
    "s={1,2,3,4,5}\n",
    "s.add(6)\n",
    "s"
   ]
  },
  {
   "cell_type": "code",
   "execution_count": 4,
   "id": "abd780d5-5231-4de7-bc4e-d58cb889c202",
   "metadata": {},
   "outputs": [
    {
     "data": {
      "text/plain": [
       "{1, 2, 4, 5}"
      ]
     },
     "execution_count": 4,
     "metadata": {},
     "output_type": "execute_result"
    }
   ],
   "source": [
    "#3. Remove an element from a set.\n",
    "s={1,2,3,4,5}\n",
    "s.remove(3)\n",
    "s"
   ]
  },
  {
   "cell_type": "code",
   "execution_count": 7,
   "id": "e3990e13-3130-410b-a6e6-db5262cd2238",
   "metadata": {},
   "outputs": [
    {
     "name": "stdin",
     "output_type": "stream",
     "text": [
      "Enter element to search 7\n"
     ]
    },
    {
     "name": "stdout",
     "output_type": "stream",
     "text": [
      "Element does not Exists.\n"
     ]
    }
   ],
   "source": [
    "#4. Check if an element exists in a set.\n",
    "s={1,2,3,4,5}\n",
    "i=int(input(\"Enter element to search\"))\n",
    "if i in s:\n",
    "    print(\"Element Exists.\") \n",
    "else:\n",
    "     print(\"Element does not Exists.\") \n"
   ]
  },
  {
   "cell_type": "code",
   "execution_count": 9,
   "id": "ca49f1bf-3790-4a83-a02e-52bc5003fb3f",
   "metadata": {},
   "outputs": [
    {
     "name": "stdout",
     "output_type": "stream",
     "text": [
      "Length of a set is: 9\n"
     ]
    }
   ],
   "source": [
    "#5. Find the length of a set without using the `len()` function\n",
    "s={1,2,3,4,5,6,7,8,9}\n",
    "c=0\n",
    "for i in s:\n",
    "    c=c+1\n",
    "print(\"Length of a set is:\",c)\n"
   ]
  },
  {
   "cell_type": "code",
   "execution_count": 10,
   "id": "7b54c70f-867b-4224-8611-5dd778dde930",
   "metadata": {},
   "outputs": [
    {
     "data": {
      "text/plain": [
       "set()"
      ]
     },
     "execution_count": 10,
     "metadata": {},
     "output_type": "execute_result"
    }
   ],
   "source": [
    "#6. Clear all elements from a set.\n",
    "s={1,2,3,4,5,6,7,8,9}\n",
    "s\n",
    "s.clear()\n",
    "s"
   ]
  },
  {
   "cell_type": "code",
   "execution_count": 13,
   "id": "95938416-c332-4c03-a170-e768e5f7b1c6",
   "metadata": {},
   "outputs": [
    {
     "data": {
      "text/plain": [
       "{2, 4, 6, 8, 10}"
      ]
     },
     "execution_count": 13,
     "metadata": {},
     "output_type": "execute_result"
    }
   ],
   "source": [
    "#7. Create a set of even numbers from 1 to 10.\n",
    "l=[i for i in range(1,11) if i%2==0]\n",
    "s=set(l)\n",
    "s"
   ]
  },
  {
   "cell_type": "code",
   "execution_count": 14,
   "id": "d976a6ff-006e-447b-a59e-2253c09b8d2d",
   "metadata": {},
   "outputs": [
    {
     "data": {
      "text/plain": [
       "{1, 3, 5, 7, 9}"
      ]
     },
     "execution_count": 14,
     "metadata": {},
     "output_type": "execute_result"
    }
   ],
   "source": [
    "#8. Create a set of odd numbers from 1 to 10.\n",
    "l=[i for i in range(1,11,2)]\n",
    "s=set(l)\n",
    "s"
   ]
  },
  {
   "cell_type": "code",
   "execution_count": 15,
   "id": "0a00b6c0-72e9-4447-b74e-0cf79e54bd13",
   "metadata": {},
   "outputs": [
    {
     "name": "stdout",
     "output_type": "stream",
     "text": [
      "{1, 2, 3, 4, 5, 6}\n"
     ]
    }
   ],
   "source": [
    "#9. Find the union of two sets.\n",
    "a={1,2,3}\n",
    "b={4,5,6}\n",
    "print(a.union(b))  "
   ]
  },
  {
   "cell_type": "code",
   "execution_count": 16,
   "id": "3d795dbc-bcac-4b71-bda4-ea8148416b3c",
   "metadata": {},
   "outputs": [
    {
     "name": "stdout",
     "output_type": "stream",
     "text": [
      "{2, 4, 5}\n"
     ]
    }
   ],
   "source": [
    "#10. Find the intersection of two sets.\n",
    "a={1,2,3,4,5}\n",
    "b={2,4,5}\n",
    "print(a.intersection(b))"
   ]
  },
  {
   "cell_type": "code",
   "execution_count": 17,
   "id": "ccdb6e7e-20c8-48c7-ad27-ce2502cf4045",
   "metadata": {},
   "outputs": [
    {
     "name": "stdout",
     "output_type": "stream",
     "text": [
      "{1, 3}\n"
     ]
    }
   ],
   "source": [
    "#11. Find the difference between two sets.\n",
    "a={1,2,3,4,5}\n",
    "b={2,4,5}\n",
    "print(a.difference(b))"
   ]
  },
  {
   "cell_type": "code",
   "execution_count": 19,
   "id": "f0bc6fcf-4e52-4b36-8a30-8a1cb2927ba4",
   "metadata": {},
   "outputs": [
    {
     "name": "stdout",
     "output_type": "stream",
     "text": [
      "True\n"
     ]
    }
   ],
   "source": [
    "#12. Check if a set is a subset of another set\n",
    "a={1,2,3,4,5}\n",
    "b={2,4,5}\n",
    "print(b.issubset(a))"
   ]
  },
  {
   "cell_type": "code",
   "execution_count": 21,
   "id": "852238ac-8af1-45b0-aec5-35cfc595b82d",
   "metadata": {},
   "outputs": [
    {
     "name": "stdout",
     "output_type": "stream",
     "text": [
      "True\n"
     ]
    }
   ],
   "source": [
    "#13. Check if a set is a superset of another set.\n",
    "a={1,2,3,4,5}\n",
    "b={2,4,5}\n",
    "print(a.issuperset(b))"
   ]
  },
  {
   "cell_type": "code",
   "execution_count": 22,
   "id": "86786882-e678-46b0-8865-2e5a8ea74770",
   "metadata": {},
   "outputs": [
    {
     "data": {
      "text/plain": [
       "{1, 2, 3, 4, 5}"
      ]
     },
     "execution_count": 22,
     "metadata": {},
     "output_type": "execute_result"
    }
   ],
   "source": [
    "#14. Create a set from a list.\n",
    "l=[1,2,3,4,5]\n",
    "s=set(l)\n",
    "s"
   ]
  },
  {
   "cell_type": "code",
   "execution_count": 23,
   "id": "16df5a8d-f140-4253-a24c-957dbf766a84",
   "metadata": {},
   "outputs": [
    {
     "data": {
      "text/plain": [
       "[1, 2, 3, 4, 5]"
      ]
     },
     "execution_count": 23,
     "metadata": {},
     "output_type": "execute_result"
    }
   ],
   "source": [
    "#15. Convert a set to a list.\n",
    "s={1,2,3,4,5}\n",
    "l=list(s)\n",
    "l"
   ]
  },
  {
   "cell_type": "code",
   "execution_count": 32,
   "id": "5dbb5df5-1c8a-4705-b4b4-ad380967b47a",
   "metadata": {},
   "outputs": [
    {
     "name": "stdout",
     "output_type": "stream",
     "text": [
      "{1, 2, 3, 4}\n"
     ]
    }
   ],
   "source": [
    "#16. Remove a random element from a set.\n",
    "import random\n",
    "s={1,2,3,4,5}\n",
    "r=random.choice(list(s))\n",
    "s.remove(r)\n",
    "print(s)"
   ]
  },
  {
   "cell_type": "code",
   "execution_count": 33,
   "id": "7ab430a2-f555-4fce-a13a-a1109f6baecf",
   "metadata": {},
   "outputs": [
    {
     "name": "stdout",
     "output_type": "stream",
     "text": [
      "1\n"
     ]
    }
   ],
   "source": [
    "#17. Pop an element from a set.\n",
    "s={1,2,3,4}\n",
    "print(s.pop())"
   ]
  },
  {
   "cell_type": "code",
   "execution_count": 37,
   "id": "ea523782-4286-4214-bd3d-0b89f6522ed5",
   "metadata": {},
   "outputs": [
    {
     "name": "stdout",
     "output_type": "stream",
     "text": [
      "The two sets have no elements in common.\n"
     ]
    }
   ],
   "source": [
    "#18. Check if two sets have no elements in common.\n",
    "a={1,2,3}\n",
    "b={4,5,6}\n",
    "common=a.intersection(b)\n",
    "if not common:\n",
    "     print(\"The two sets have no elements in common.\")\n",
    "else:\n",
    "    print(\"The two sets have common elements:\", common)"
   ]
  },
  {
   "cell_type": "code",
   "execution_count": 2,
   "id": "1fca32ce-add1-4013-ab04-11853596746b",
   "metadata": {},
   "outputs": [
    {
     "name": "stdout",
     "output_type": "stream",
     "text": [
      "Symmetric difference is: {1, 2, 3, 7, 8, 9}\n"
     ]
    }
   ],
   "source": [
    "#19. Find the symmetric difference between two sets.\n",
    "s1={1,2,3,4,5,6}\n",
    "s2={4,5,6,7,8,9}\n",
    "symmetric_diff=s1 ^ s2\n",
    "print(\"Symmetric difference is:\",symmetric_diff)"
   ]
  },
  {
   "cell_type": "code",
   "execution_count": 5,
   "id": "95e428dd-9480-4366-968d-0c2078262274",
   "metadata": {},
   "outputs": [
    {
     "name": "stdout",
     "output_type": "stream",
     "text": [
      "set 1: {1, 2, 3, 4, 5}\n",
      "set 2: {8, 9, 6, 7}\n",
      "updated set is: {1, 2, 3, 4, 5, 6, 7, 8, 9}\n"
     ]
    }
   ],
   "source": [
    "#20.Update a set with elements from another set.\n",
    "s1={1,2,3,4,5}\n",
    "s2={6,7,8,9}\n",
    "print(\"set 1:\",s1)\n",
    "print(\"set 2:\",s2)\n",
    "s1.update(s2)\n",
    "print(\"updated set is:\",s1)"
   ]
  },
  {
   "cell_type": "code",
   "execution_count": 6,
   "id": "d36d8970-69d6-40a5-95f1-19f64a9c9ee4",
   "metadata": {},
   "outputs": [
    {
     "name": "stdin",
     "output_type": "stream",
     "text": [
      "Enter N: 5\n"
     ]
    },
    {
     "name": "stdout",
     "output_type": "stream",
     "text": [
      "First 5 Prime numbers are:2 3 5 7 11\n"
     ]
    }
   ],
   "source": [
    "#21. Create a set of the first 5 prime numbers.\n",
    "def Prime(n):  \n",
    "    for i in range(2,n//2+1):  \n",
    "        if(n%i==0):  \n",
    "            return(0)  \n",
    "    return(1)  \n",
    "  \n",
    "N=int(input(\"Enter N:\"))  \n",
    "i=2 \n",
    "lst=[] \n",
    "while(1):  \n",
    "    if(Prime(i)):  \n",
    "        lst.append(i) \n",
    "        if(len(lst)==N): \n",
    "            break \n",
    "    i+=1 \n",
    "print(\"First \"+str(N)+\" Prime numbers are:\",end=\"\") \n",
    "print(*lst)"
   ]
  },
  {
   "cell_type": "code",
   "execution_count": 10,
   "id": "f5a262ab-4a51-48ed-b76d-cc4affe1317f",
   "metadata": {},
   "outputs": [
    {
     "name": "stdout",
     "output_type": "stream",
     "text": [
      "both sets are identical\n"
     ]
    }
   ],
   "source": [
    "#22. Check if two sets are identical.\n",
    "s1={1,2,3}\n",
    "s2={1,2,3}\n",
    "\n",
    "if s1==s2:\n",
    "    print(\"both sets are identical\")\n",
    "else:\n",
    "     print(\"both sets are not identical\")\n",
    "    "
   ]
  },
  {
   "cell_type": "code",
   "execution_count": 11,
   "id": "4943c07e-c340-41fc-8623-e6c83eb431a5",
   "metadata": {},
   "outputs": [
    {
     "name": "stdout",
     "output_type": "stream",
     "text": [
      "Frozen set is: frozenset({1, 2, 3, 4, 5})\n"
     ]
    }
   ],
   "source": [
    "#23. Create a frozen set\n",
    "s={1,2,3,4,5}\n",
    "frozen_set=frozenset(s)\n",
    "print(\"Frozen set is:\",frozen_set)"
   ]
  },
  {
   "cell_type": "code",
   "execution_count": 12,
   "id": "5f02b9c4-7807-4c8c-ae25-f1e0948f3575",
   "metadata": {},
   "outputs": [
    {
     "name": "stdout",
     "output_type": "stream",
     "text": [
      "disjoint status is: True\n"
     ]
    }
   ],
   "source": [
    "#24. Check if a set is disjoint with another set.\n",
    "a={1,2,3}\n",
    "b={4,5,6}\n",
    "disjoint=a.isdisjoint(b)\n",
    "print(\"disjoint status is:\",disjoint)"
   ]
  },
  {
   "cell_type": "code",
   "execution_count": 14,
   "id": "fa2b57c3-06ed-439b-8c34-35ecdb73f32b",
   "metadata": {},
   "outputs": [
    {
     "data": {
      "text/plain": [
       "{1, 4, 9, 16, 25}"
      ]
     },
     "execution_count": 14,
     "metadata": {},
     "output_type": "execute_result"
    }
   ],
   "source": [
    "#25. Create a set of squares of numbers from 1 to 5.\n",
    "\n",
    "l=[i**2 for i in range(1,6)]\n",
    "s=set(l)\n",
    "s"
   ]
  },
  {
   "cell_type": "code",
   "execution_count": 18,
   "id": "10f06822-707a-4005-9609-8355a94eea84",
   "metadata": {},
   "outputs": [
    {
     "data": {
      "text/plain": [
       "{2, 4, 6, 8, 10}"
      ]
     },
     "execution_count": 18,
     "metadata": {},
     "output_type": "execute_result"
    }
   ],
   "source": [
    "#26. Filter out all even numbers from a set.\n",
    "l=[i for i in range(1,11) if i%2==0]\n",
    "s=set(l)\n",
    "s"
   ]
  },
  {
   "cell_type": "code",
   "execution_count": 21,
   "id": "70c1fb75-ebbc-4133-b01f-04ad6e74c668",
   "metadata": {},
   "outputs": [
    {
     "data": {
      "text/plain": [
       "{2, 4, 6, 8, 10, 12, 14, 16, 18, 20}"
      ]
     },
     "execution_count": 21,
     "metadata": {},
     "output_type": "execute_result"
    }
   ],
   "source": [
    "#27. Multiply all elements in a set by 2.\n",
    "\n",
    "l=[i*2 for i in range(1,11)]\n",
    "s=set(l)\n",
    "s"
   ]
  },
  {
   "cell_type": "code",
   "execution_count": 28,
   "id": "161fe5f2-96ad-4f26-8447-4f8f0fedf3dd",
   "metadata": {},
   "outputs": [
    {
     "name": "stdin",
     "output_type": "stream",
     "text": [
      "Enter range: 5\n"
     ]
    },
    {
     "name": "stdout",
     "output_type": "stream",
     "text": [
      "random number set is: {2, 5, 11, 14, 17}\n"
     ]
    }
   ],
   "source": [
    "#28. Create a set of random numbers.\n",
    "import random\n",
    "random_set=set()\n",
    "n=int(input(\"Enter range:\"))\n",
    "for i in range(n):\n",
    "    s=random.randint(1,21)\n",
    "    random_set.add(s)\n",
    "print(\"random number set is:\",random_set)"
   ]
  },
  {
   "cell_type": "code",
   "execution_count": 34,
   "id": "4e01f043-196b-44ac-ad1f-175cb5a5fd90",
   "metadata": {},
   "outputs": [
    {
     "name": "stdout",
     "output_type": "stream",
     "text": [
      "set is empty\n"
     ]
    }
   ],
   "source": [
    "#29. Check if a set is empty.\n",
    "s=set()\n",
    "\n",
    "if not s:\n",
    "    print(\"set is empty\")\n",
    "else:\n",
    "    print(\"set is not empty\")"
   ]
  },
  {
   "cell_type": "code",
   "execution_count": 35,
   "id": "3befed3f-01e7-4434-995b-374c0640238d",
   "metadata": {},
   "outputs": [
    {
     "name": "stdout",
     "output_type": "stream",
     "text": [
      "Nested Set: {frozenset({1, 2, 3, 4, 5}), frozenset({6, 7, 8, 9, 10})}\n"
     ]
    }
   ],
   "source": [
    "#30. Create a nested set (hint: use frozenset)\n",
    "set1 = {1, 2, 3, 4, 5}\n",
    "set2 = {6, 7, 8, 9, 10}\n",
    "\n",
    "# Step 2: Create frozensets from the inner sets\n",
    "frozen_set1 = frozenset(set1)\n",
    "frozen_set2 = frozenset(set2)\n",
    "\n",
    "# Step 3: Create the nested set using the frozensets\n",
    "nested_set = {frozen_set1, frozen_set2}\n",
    "\n",
    "# Print the nested set\n",
    "print(\"Nested Set:\", nested_set)"
   ]
  },
  {
   "cell_type": "code",
   "execution_count": 3,
   "id": "aaafcddd-a0aa-4159-8306-faf0b5c978ca",
   "metadata": {},
   "outputs": [
    {
     "data": {
      "text/plain": [
       "{1, 2, 4, 5}"
      ]
     },
     "execution_count": 3,
     "metadata": {},
     "output_type": "execute_result"
    }
   ],
   "source": [
    "#31. Remove an element from a set using the discard method.\n",
    "s={1,2,3,4,5}\n",
    "s\n",
    "s.discard(3)\n",
    "s"
   ]
  },
  {
   "cell_type": "code",
   "execution_count": 5,
   "id": "a2758b0a-9a3c-44df-93be-30c5d0c5f084",
   "metadata": {},
   "outputs": [
    {
     "name": "stdout",
     "output_type": "stream",
     "text": [
      "Set 1: {1, 2, 3, 4, 5}\n",
      "Set 2: {3, 5, 6, 7, 8, 9, 10}\n",
      "Is set1 a subset of set2? False\n",
      "Is set2 a subset of set1? False\n",
      "Intersection: {3, 5}\n",
      "Union: {1, 2, 3, 4, 5, 6, 7, 8, 9, 10}\n",
      "Elements in set1 but not in set2: {1, 2, 4}\n",
      "Elements in set2 but not in set1: {6, 7, 8, 9, 10}\n"
     ]
    }
   ],
   "source": [
    "#32. Compare two sets.\n",
    "s1={1,2,3,4,5}\n",
    "s2={6,7,8,9,3,5,10}\n",
    "\n",
    "print(\"Set 1:\", s1)\n",
    "print(\"Set 2:\", s2)\n",
    "print(\"Is set1 a subset of set2?\",s1.issubset(s2))\n",
    "print(\"Is set2 a subset of set1?\", s2.issubset(s1))\n",
    "print(\"Intersection:\", s1.intersection(s2))\n",
    "print(\"Union:\", s1.union(s2))\n",
    "print(\"Elements in set1 but not in set2:\", s1.difference(s2))\n",
    "print(\"Elements in set2 but not in set1:\", s2.difference(s1))"
   ]
  },
  {
   "cell_type": "code",
   "execution_count": 6,
   "id": "96cbe0b3-2314-471c-a7a2-9d4b899a1a17",
   "metadata": {},
   "outputs": [
    {
     "name": "stdout",
     "output_type": "stream",
     "text": [
      "{'k', 'i', 'p', 'l', 'w', 's'}\n"
     ]
    }
   ],
   "source": [
    "#33. Create a set from a string.\n",
    "s=\"pwskills\"\n",
    "chars=set(s)\n",
    "print(chars)"
   ]
  },
  {
   "cell_type": "code",
   "execution_count": 2,
   "id": "0e4edcd8-174a-4aea-a6f1-1a80a595a1f7",
   "metadata": {},
   "outputs": [
    {
     "name": "stdout",
     "output_type": "stream",
     "text": [
      "original string set: {'20', '40', '30', '10', '50'}\n",
      "converted string set: {40, 10, 50, 20, 30}\n"
     ]
    }
   ],
   "source": [
    "#34. Convert a set of strings to a set of integers.\n",
    "\n",
    "s={\"10\",\"20\",\"30\",\"40\",\"50\"}\n",
    "int_set=set()\n",
    "for s1 in s:\n",
    "    int_val=int(s1)\n",
    "    int_set.add(int_val)\n",
    "    \n",
    "print(\"original string set:\",s)\n",
    "print(\"converted string set:\",int_set)"
   ]
  },
  {
   "cell_type": "code",
   "execution_count": 3,
   "id": "56dfad27-890e-4502-97b2-e96000252158",
   "metadata": {},
   "outputs": [
    {
     "name": "stdout",
     "output_type": "stream",
     "text": [
      "original string set: {50, 20, 40, 10, 30}\n",
      "converted string set: {'20', '50', '40', '30', '10'}\n"
     ]
    }
   ],
   "source": [
    "#35. Convert a set of integers to a set of strings.\n",
    "int_set={10,20,30,40,50}\n",
    "str_set=set()\n",
    "for s1 in s:\n",
    "    str_val=str(s1)\n",
    "    str_set.add(str_val)\n",
    "    \n",
    "print(\"original string set:\",int_set)\n",
    "print(\"converted string set:\",str_set)"
   ]
  },
  {
   "cell_type": "code",
   "execution_count": 4,
   "id": "dc27b5d6-ee96-4c60-bc7d-3aa155efd2aa",
   "metadata": {},
   "outputs": [
    {
     "data": {
      "text/plain": [
       "{1, 2, 3, 4, 5}"
      ]
     },
     "execution_count": 4,
     "metadata": {},
     "output_type": "execute_result"
    }
   ],
   "source": [
    "#36. Create a set from a tuple.\n",
    "t=(1,2,3,4,5,2,3,4,1)\n",
    "s=set(t)\n",
    "s"
   ]
  },
  {
   "cell_type": "code",
   "execution_count": 5,
   "id": "a3a6f775-e46b-4d78-b854-e1a22893c91c",
   "metadata": {},
   "outputs": [
    {
     "data": {
      "text/plain": [
       "(1, 2, 3, 4, 5)"
      ]
     },
     "execution_count": 5,
     "metadata": {},
     "output_type": "execute_result"
    }
   ],
   "source": [
    "#37. Convert a set to a tuple.\n",
    "s={1,2,3,4,5}\n",
    "t=tuple(s)\n",
    "t"
   ]
  },
  {
   "cell_type": "code",
   "execution_count": 7,
   "id": "10aa6cad-a24c-4f1b-a884-be6761c00d17",
   "metadata": {},
   "outputs": [
    {
     "name": "stdout",
     "output_type": "stream",
     "text": [
      "max element is: 90\n"
     ]
    }
   ],
   "source": [
    "#38. Find the maximum value in a set.\n",
    "s={90,-45,23,55,19}\n",
    "print(\"max element is:\",max(s))"
   ]
  },
  {
   "cell_type": "code",
   "execution_count": 8,
   "id": "77e90ce3-74a0-49d8-85d5-de5054cc2e32",
   "metadata": {},
   "outputs": [
    {
     "name": "stdout",
     "output_type": "stream",
     "text": [
      "min element is: -45\n"
     ]
    }
   ],
   "source": [
    "#39. Find the minimum value in a set.\n",
    "s={90,-45,23,55,19}\n",
    "print(\"min element is:\",min(s))"
   ]
  },
  {
   "cell_type": "code",
   "execution_count": 10,
   "id": "403a6691-3d08-414d-bc2f-937f7ab9542d",
   "metadata": {},
   "outputs": [
    {
     "name": "stdin",
     "output_type": "stream",
     "text": [
      "> data science\n",
      "> python\n",
      "> machine learning\n",
      "> statistics\n",
      "> done\n"
     ]
    },
    {
     "name": "stdout",
     "output_type": "stream",
     "text": [
      "{'python', 'data science', 'machine learning', 'statistics'}\n"
     ]
    }
   ],
   "source": [
    "#40. Create a set from user input.\n",
    "user_input_set=set()\n",
    "while True:\n",
    "    user_input=input(\">\")\n",
    "    if user_input.lower()==\"done\":\n",
    "        break\n",
    "    else:\n",
    "        user_input_set.add(user_input)\n",
    "        \n",
    "print(user_input_set)"
   ]
  },
  {
   "cell_type": "code",
   "execution_count": 13,
   "id": "fff9e18a-337a-4fae-8a21-be9d6cd018f8",
   "metadata": {},
   "outputs": [
    {
     "name": "stdout",
     "output_type": "stream",
     "text": [
      "Intersection is empty\n"
     ]
    }
   ],
   "source": [
    "#41. Check if the intersection of two sets is empty.\n",
    "s1={1,2,3}\n",
    "s2={4,5,6}\n",
    "\n",
    "intersect=s1.intersection(s2)\n",
    "if not intersect:\n",
    "    print(\"Intersection is empty\")\n",
    "else:\n",
    "     print(\"Intersection is not empty\")"
   ]
  },
  {
   "cell_type": "code",
   "execution_count": 15,
   "id": "70aa30ab-15ff-4efc-b48e-4b9db8c7bdaa",
   "metadata": {},
   "outputs": [
    {
     "name": "stdout",
     "output_type": "stream",
     "text": [
      "Fibonacci series is: {0, 1, 2, 4, 8}\n"
     ]
    }
   ],
   "source": [
    "#42. Create a set of the first 5 Fibonacci numbers.\n",
    "fibo=set()\n",
    "a,b=0,1\n",
    "for i in range(5):\n",
    "    fibo.add(a)\n",
    "    a=b\n",
    "    b=a+b\n",
    "    \n",
    "print(\"Fibonacci series is:\",fibo)"
   ]
  },
  {
   "cell_type": "code",
   "execution_count": 17,
   "id": "c0b54a45-8c48-4879-a9f2-2175c8bac13e",
   "metadata": {},
   "outputs": [
    {
     "data": {
      "text/plain": [
       "[1, 2, 4, 5, 6, 7]"
      ]
     },
     "execution_count": 17,
     "metadata": {},
     "output_type": "execute_result"
    }
   ],
   "source": [
    "#43. Remove duplicates from a list using sets.\n",
    "\n",
    "l=[1,2,2,4,6,5,2,1,1,7,4]\n",
    "s=set(l)\n",
    "s\n",
    "l1=list(s)\n",
    "l1"
   ]
  },
  {
   "cell_type": "code",
   "execution_count": 20,
   "id": "b08d4154-c41e-43b5-8aee-3a04d9bb255a",
   "metadata": {},
   "outputs": [
    {
     "name": "stdout",
     "output_type": "stream",
     "text": [
      "same elements\n"
     ]
    }
   ],
   "source": [
    "#44. Check if two sets have the same elements, regardless of their count.\n",
    "s1={1,2,3}\n",
    "s2={1,2,3}\n",
    "\n",
    "if(sorted(s1)==sorted(s2)):\n",
    "    print(\"same elements\")\n",
    "else:\n",
    "      print(\"different elements\")"
   ]
  },
  {
   "cell_type": "code",
   "execution_count": 23,
   "id": "6e83bae3-04a1-4966-b0cb-387e3125274f",
   "metadata": {},
   "outputs": [
    {
     "name": "stdin",
     "output_type": "stream",
     "text": [
      "Enter n: 5\n"
     ]
    },
    {
     "data": {
      "text/plain": [
       "{1, 2, 4, 8, 16}"
      ]
     },
     "execution_count": 23,
     "metadata": {},
     "output_type": "execute_result"
    }
   ],
   "source": [
    "#45. Create a set of the first n powers of 2\n",
    "n=int(input(\"Enter n:\"))\n",
    "l=[2**i for i in range(n)]\n",
    "s=set(l)\n",
    "s"
   ]
  },
  {
   "cell_type": "code",
   "execution_count": 24,
   "id": "82935081-b8a2-450a-8430-44868ff80bda",
   "metadata": {},
   "outputs": [
    {
     "name": "stdout",
     "output_type": "stream",
     "text": [
      "common elements: [2, 4, 5]\n"
     ]
    }
   ],
   "source": [
    "#46. Find the common elements between a set and a list.\n",
    "s1={1,2,3,4,5}\n",
    "l=[2,4,5]\n",
    "list_to_set=set(l)\n",
    "common=[]\n",
    "for ele in l:\n",
    "    if ele in list_to_set:\n",
    "        common.append(ele)\n",
    "        \n",
    "print(\"common elements:\",common)"
   ]
  },
  {
   "cell_type": "code",
   "execution_count": 25,
   "id": "4eedf5c7-6cff-4773-a839-6b721359307c",
   "metadata": {},
   "outputs": [
    {
     "name": "stdin",
     "output_type": "stream",
     "text": [
      "Enter the value of n:  7\n"
     ]
    },
    {
     "name": "stdout",
     "output_type": "stream",
     "text": [
      "The set of the first 7 triangular numbers is: {1, 3, 6, 10, 15, 21, 28}\n"
     ]
    }
   ],
   "source": [
    "#47. Create a set of the first n triangular numbers.:\n",
    "def generate_triangular_numbers(n):\n",
    "    triangular_numbers = set()  # Create an empty set to store the triangular numbers\n",
    "    for i in range(1, n + 1):\n",
    "        triangular_number = i * (i + 1) // 2  # Calculate the ith triangular number using the formula\n",
    "        triangular_numbers.add(triangular_number)  # Add the calculated triangular number to the set\n",
    "    return triangular_numbers\n",
    "\n",
    "# Input the value of 'n'\n",
    "n = int(input(\"Enter the value of n: \"))\n",
    "\n",
    "# Call the function to generate the set of first 'n' triangular numbers\n",
    "triangular_set = generate_triangular_numbers(n)\n",
    "\n",
    "# Display the set of triangular numbers\n",
    "print(f\"The set of the first {n} triangular numbers is:\", triangular_set)"
   ]
  },
  {
   "cell_type": "code",
   "execution_count": 27,
   "id": "d61e7e19-5c3b-4bad-b30e-cd2332210b60",
   "metadata": {},
   "outputs": [
    {
     "name": "stdout",
     "output_type": "stream",
     "text": [
      "s2 is subset of s1\n"
     ]
    }
   ],
   "source": [
    "#48. Check if a set contains another set as a subset.\n",
    "s1={1,2,3,4,5}\n",
    "s2={2,3}\n",
    "\n",
    "if s2.issubset(s1):\n",
    "    print(\"s2 is subset of s1\")\n",
    "else:\n",
    "    print(\"s2 is not subset of s1\")"
   ]
  },
  {
   "cell_type": "code",
   "execution_count": 28,
   "id": "b538ae28-5c05-4197-bb92-067182adb9b1",
   "metadata": {},
   "outputs": [
    {
     "name": "stdout",
     "output_type": "stream",
     "text": [
      "{0, 1}\n"
     ]
    }
   ],
   "source": [
    "#49. Create a set of alternating 1s and 0s of length n.\n",
    "def create_alternating_set(n):\n",
    "    # Initialize an empty set to store the alternating sequence.\n",
    "    alternating_set = set()\n",
    "\n",
    "    # Loop to generate alternating 1s and 0s.\n",
    "    for i in range(n):\n",
    "        # Alternate between adding 1 and 0 to the set based on whether i is even or odd.\n",
    "        if i % 2 == 0:\n",
    "            alternating_set.add(1)  # Add 1 if i is even.\n",
    "        else:\n",
    "            alternating_set.add(0)  # Add 0 if i is odd.\n",
    "\n",
    "    return alternating_set\n",
    "\n",
    "# Define the desired length of the alternating set.\n",
    "length_n = 10\n",
    "\n",
    "# Call the function to create the alternating set of length 'length_n'.\n",
    "result = create_alternating_set(length_n)\n",
    "\n",
    "# Print the resulting set.\n",
    "print(result)"
   ]
  },
  {
   "cell_type": "code",
   "execution_count": 30,
   "id": "c8e43f2a-2fbd-49c3-89fd-58eaac8419e7",
   "metadata": {},
   "outputs": [
    {
     "name": "stdout",
     "output_type": "stream",
     "text": [
      "Merged set is: {1, 2, 3, 4, 5, 6, 7, 8, 9}\n"
     ]
    }
   ],
   "source": [
    "#50. Merge multiple sets into one.\n",
    "s1={1,2,3}\n",
    "s2={4,5,6}\n",
    "s3={7,8,9}\n",
    "\n",
    "print(\"Merged set is:\",s1.union(s2,s3))\n",
    "    "
   ]
  },
  {
   "cell_type": "code",
   "execution_count": null,
   "id": "110fb4ec-1c50-4db7-9088-e05d4afb3183",
   "metadata": {},
   "outputs": [],
   "source": []
  }
 ],
 "metadata": {
  "kernelspec": {
   "display_name": "Python 3 (ipykernel)",
   "language": "python",
   "name": "python3"
  },
  "language_info": {
   "codemirror_mode": {
    "name": "ipython",
    "version": 3
   },
   "file_extension": ".py",
   "mimetype": "text/x-python",
   "name": "python",
   "nbconvert_exporter": "python",
   "pygments_lexer": "ipython3",
   "version": "3.10.8"
  }
 },
 "nbformat": 4,
 "nbformat_minor": 5
}
